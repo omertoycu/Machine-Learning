{
 "cells": [
  {
   "cell_type": "code",
   "execution_count": 1,
   "id": "7d8fc515-ad5b-4e99-bdd7-fed2c216693e",
   "metadata": {},
   "outputs": [],
   "source": [
    "import pandas as pd\n",
    "import numpy as np\n",
    "import matplotlib.pyplot as plt\n",
    "import seaborn as sns\n",
    "from sklearn.model_selection import train_test_split\n",
    "from sklearn.linear_model import LogisticRegression"
   ]
  },
  {
   "cell_type": "code",
   "execution_count": 3,
   "id": "dc525456-6190-4805-9ec0-99f75a2fe73d",
   "metadata": {},
   "outputs": [],
   "source": [
    "df = pd.read_csv(\"7-cyber_attack_data.csv\")"
   ]
  },
  {
   "cell_type": "code",
   "execution_count": 5,
   "id": "84a31709-3463-44d7-9a82-0e8373996d13",
   "metadata": {},
   "outputs": [
    {
     "data": {
      "text/html": [
       "<div>\n",
       "<style scoped>\n",
       "    .dataframe tbody tr th:only-of-type {\n",
       "        vertical-align: middle;\n",
       "    }\n",
       "\n",
       "    .dataframe tbody tr th {\n",
       "        vertical-align: top;\n",
       "    }\n",
       "\n",
       "    .dataframe thead th {\n",
       "        text-align: right;\n",
       "    }\n",
       "</style>\n",
       "<table border=\"1\" class=\"dataframe\">\n",
       "  <thead>\n",
       "    <tr style=\"text-align: right;\">\n",
       "      <th></th>\n",
       "      <th>src_packet_rate</th>\n",
       "      <th>dst_packet_rate</th>\n",
       "      <th>avg_payload_size</th>\n",
       "      <th>connection_duration</th>\n",
       "      <th>tcp_flag_count</th>\n",
       "      <th>avg_interarrival_time</th>\n",
       "      <th>failed_login_attempts</th>\n",
       "      <th>unusual_port_activity_score</th>\n",
       "      <th>session_entropy</th>\n",
       "      <th>avg_response_delay</th>\n",
       "      <th>attack_type</th>\n",
       "    </tr>\n",
       "  </thead>\n",
       "  <tbody>\n",
       "    <tr>\n",
       "      <th>0</th>\n",
       "      <td>-1.286132</td>\n",
       "      <td>-0.648334</td>\n",
       "      <td>1.044115</td>\n",
       "      <td>-0.469715</td>\n",
       "      <td>0.789859</td>\n",
       "      <td>-0.083727</td>\n",
       "      <td>-1.647309</td>\n",
       "      <td>-1.316412</td>\n",
       "      <td>1.011910</td>\n",
       "      <td>-0.898063</td>\n",
       "      <td>2</td>\n",
       "    </tr>\n",
       "    <tr>\n",
       "      <th>1</th>\n",
       "      <td>-0.222224</td>\n",
       "      <td>2.083232</td>\n",
       "      <td>1.191114</td>\n",
       "      <td>-1.354527</td>\n",
       "      <td>-0.956992</td>\n",
       "      <td>1.696028</td>\n",
       "      <td>-1.070406</td>\n",
       "      <td>0.981403</td>\n",
       "      <td>-1.628798</td>\n",
       "      <td>1.377594</td>\n",
       "      <td>0</td>\n",
       "    </tr>\n",
       "    <tr>\n",
       "      <th>2</th>\n",
       "      <td>-0.431963</td>\n",
       "      <td>0.375745</td>\n",
       "      <td>-1.370334</td>\n",
       "      <td>0.819214</td>\n",
       "      <td>0.345243</td>\n",
       "      <td>1.389447</td>\n",
       "      <td>-1.904130</td>\n",
       "      <td>1.292602</td>\n",
       "      <td>0.925545</td>\n",
       "      <td>0.232705</td>\n",
       "      <td>0</td>\n",
       "    </tr>\n",
       "    <tr>\n",
       "      <th>3</th>\n",
       "      <td>-0.912633</td>\n",
       "      <td>0.986988</td>\n",
       "      <td>-0.690042</td>\n",
       "      <td>2.014628</td>\n",
       "      <td>-0.442260</td>\n",
       "      <td>0.590347</td>\n",
       "      <td>-1.819353</td>\n",
       "      <td>1.560938</td>\n",
       "      <td>0.823755</td>\n",
       "      <td>0.517762</td>\n",
       "      <td>0</td>\n",
       "    </tr>\n",
       "    <tr>\n",
       "      <th>4</th>\n",
       "      <td>-0.367056</td>\n",
       "      <td>1.667892</td>\n",
       "      <td>0.879172</td>\n",
       "      <td>2.214276</td>\n",
       "      <td>1.846338</td>\n",
       "      <td>-0.894047</td>\n",
       "      <td>1.543838</td>\n",
       "      <td>0.931103</td>\n",
       "      <td>-1.015210</td>\n",
       "      <td>1.061845</td>\n",
       "      <td>1</td>\n",
       "    </tr>\n",
       "  </tbody>\n",
       "</table>\n",
       "</div>"
      ],
      "text/plain": [
       "   src_packet_rate  dst_packet_rate  ...  avg_response_delay  attack_type\n",
       "0        -1.286132        -0.648334  ...           -0.898063            2\n",
       "1        -0.222224         2.083232  ...            1.377594            0\n",
       "2        -0.431963         0.375745  ...            0.232705            0\n",
       "3        -0.912633         0.986988  ...            0.517762            0\n",
       "4        -0.367056         1.667892  ...            1.061845            1\n",
       "\n",
       "[5 rows x 11 columns]"
      ]
     },
     "execution_count": 5,
     "metadata": {},
     "output_type": "execute_result"
    }
   ],
   "source": [
    "df.head()"
   ]
  },
  {
   "cell_type": "code",
   "execution_count": 7,
   "id": "4c97d0e9-0599-4b7e-a568-f87a67c23b45",
   "metadata": {},
   "outputs": [
    {
     "data": {
      "text/plain": [
       "(1000, 11)"
      ]
     },
     "execution_count": 7,
     "metadata": {},
     "output_type": "execute_result"
    }
   ],
   "source": [
    "df.shape"
   ]
  },
  {
   "cell_type": "code",
   "execution_count": 9,
   "id": "8d0aed5a-316b-4009-ab18-82c746cc3185",
   "metadata": {},
   "outputs": [
    {
     "name": "stdout",
     "output_type": "stream",
     "text": [
      "<class 'pandas.core.frame.DataFrame'>\n",
      "RangeIndex: 1000 entries, 0 to 999\n",
      "Data columns (total 11 columns):\n",
      " #   Column                       Non-Null Count  Dtype  \n",
      "---  ------                       --------------  -----  \n",
      " 0   src_packet_rate              1000 non-null   float64\n",
      " 1   dst_packet_rate              1000 non-null   float64\n",
      " 2   avg_payload_size             1000 non-null   float64\n",
      " 3   connection_duration          1000 non-null   float64\n",
      " 4   tcp_flag_count               1000 non-null   float64\n",
      " 5   avg_interarrival_time        1000 non-null   float64\n",
      " 6   failed_login_attempts        1000 non-null   float64\n",
      " 7   unusual_port_activity_score  1000 non-null   float64\n",
      " 8   session_entropy              1000 non-null   float64\n",
      " 9   avg_response_delay           1000 non-null   float64\n",
      " 10  attack_type                  1000 non-null   int64  \n",
      "dtypes: float64(10), int64(1)\n",
      "memory usage: 86.1 KB\n"
     ]
    }
   ],
   "source": [
    "df.info()"
   ]
  },
  {
   "cell_type": "code",
   "execution_count": 13,
   "id": "6758730e-8eaa-4031-b059-04906e4fc9c9",
   "metadata": {},
   "outputs": [
    {
     "data": {
      "text/html": [
       "<div>\n",
       "<style scoped>\n",
       "    .dataframe tbody tr th:only-of-type {\n",
       "        vertical-align: middle;\n",
       "    }\n",
       "\n",
       "    .dataframe tbody tr th {\n",
       "        vertical-align: top;\n",
       "    }\n",
       "\n",
       "    .dataframe thead th {\n",
       "        text-align: right;\n",
       "    }\n",
       "</style>\n",
       "<table border=\"1\" class=\"dataframe\">\n",
       "  <thead>\n",
       "    <tr style=\"text-align: right;\">\n",
       "      <th></th>\n",
       "      <th>src_packet_rate</th>\n",
       "      <th>dst_packet_rate</th>\n",
       "      <th>avg_payload_size</th>\n",
       "      <th>connection_duration</th>\n",
       "      <th>tcp_flag_count</th>\n",
       "      <th>avg_interarrival_time</th>\n",
       "      <th>failed_login_attempts</th>\n",
       "      <th>unusual_port_activity_score</th>\n",
       "      <th>session_entropy</th>\n",
       "      <th>avg_response_delay</th>\n",
       "      <th>attack_type</th>\n",
       "    </tr>\n",
       "  </thead>\n",
       "  <tbody>\n",
       "    <tr>\n",
       "      <th>count</th>\n",
       "      <td>1000.000000</td>\n",
       "      <td>1000.000000</td>\n",
       "      <td>1000.000000</td>\n",
       "      <td>1000.000000</td>\n",
       "      <td>1000.000000</td>\n",
       "      <td>1000.000000</td>\n",
       "      <td>1000.000000</td>\n",
       "      <td>1000.000000</td>\n",
       "      <td>1000.000000</td>\n",
       "      <td>1000.000000</td>\n",
       "      <td>1000.000000</td>\n",
       "    </tr>\n",
       "    <tr>\n",
       "      <th>mean</th>\n",
       "      <td>-0.012296</td>\n",
       "      <td>0.239737</td>\n",
       "      <td>-0.031142</td>\n",
       "      <td>0.013329</td>\n",
       "      <td>0.008900</td>\n",
       "      <td>0.016681</td>\n",
       "      <td>0.026614</td>\n",
       "      <td>0.315347</td>\n",
       "      <td>-0.045636</td>\n",
       "      <td>0.179530</td>\n",
       "      <td>1.003000</td>\n",
       "    </tr>\n",
       "    <tr>\n",
       "      <th>std</th>\n",
       "      <td>1.406123</td>\n",
       "      <td>1.635646</td>\n",
       "      <td>0.989677</td>\n",
       "      <td>1.001178</td>\n",
       "      <td>1.000905</td>\n",
       "      <td>1.027824</td>\n",
       "      <td>1.022217</td>\n",
       "      <td>1.364824</td>\n",
       "      <td>1.472316</td>\n",
       "      <td>0.960834</td>\n",
       "      <td>0.817104</td>\n",
       "    </tr>\n",
       "    <tr>\n",
       "      <th>min</th>\n",
       "      <td>-4.267039</td>\n",
       "      <td>-7.960328</td>\n",
       "      <td>-3.718638</td>\n",
       "      <td>-3.250031</td>\n",
       "      <td>-3.288725</td>\n",
       "      <td>-3.178790</td>\n",
       "      <td>-3.057529</td>\n",
       "      <td>-4.045045</td>\n",
       "      <td>-5.869039</td>\n",
       "      <td>-4.409592</td>\n",
       "      <td>0.000000</td>\n",
       "    </tr>\n",
       "    <tr>\n",
       "      <th>25%</th>\n",
       "      <td>-1.007421</td>\n",
       "      <td>-0.871250</td>\n",
       "      <td>-0.657668</td>\n",
       "      <td>-0.672964</td>\n",
       "      <td>-0.654218</td>\n",
       "      <td>-0.697799</td>\n",
       "      <td>-0.653787</td>\n",
       "      <td>-0.712015</td>\n",
       "      <td>-1.074499</td>\n",
       "      <td>-0.591831</td>\n",
       "      <td>0.000000</td>\n",
       "    </tr>\n",
       "    <tr>\n",
       "      <th>50%</th>\n",
       "      <td>0.085888</td>\n",
       "      <td>0.296278</td>\n",
       "      <td>-0.008968</td>\n",
       "      <td>0.045505</td>\n",
       "      <td>-0.032894</td>\n",
       "      <td>0.014639</td>\n",
       "      <td>0.049283</td>\n",
       "      <td>0.567003</td>\n",
       "      <td>0.121580</td>\n",
       "      <td>0.248920</td>\n",
       "      <td>1.000000</td>\n",
       "    </tr>\n",
       "    <tr>\n",
       "      <th>75%</th>\n",
       "      <td>1.080743</td>\n",
       "      <td>1.518676</td>\n",
       "      <td>0.615381</td>\n",
       "      <td>0.678219</td>\n",
       "      <td>0.687831</td>\n",
       "      <td>0.703139</td>\n",
       "      <td>0.713809</td>\n",
       "      <td>1.235890</td>\n",
       "      <td>1.013049</td>\n",
       "      <td>0.983239</td>\n",
       "      <td>2.000000</td>\n",
       "    </tr>\n",
       "    <tr>\n",
       "      <th>max</th>\n",
       "      <td>3.874738</td>\n",
       "      <td>7.168331</td>\n",
       "      <td>3.206344</td>\n",
       "      <td>2.741943</td>\n",
       "      <td>3.477044</td>\n",
       "      <td>3.600187</td>\n",
       "      <td>3.357941</td>\n",
       "      <td>4.020627</td>\n",
       "      <td>4.986178</td>\n",
       "      <td>4.112542</td>\n",
       "      <td>2.000000</td>\n",
       "    </tr>\n",
       "  </tbody>\n",
       "</table>\n",
       "</div>"
      ],
      "text/plain": [
       "       src_packet_rate  dst_packet_rate  ...  avg_response_delay  attack_type\n",
       "count      1000.000000      1000.000000  ...         1000.000000  1000.000000\n",
       "mean         -0.012296         0.239737  ...            0.179530     1.003000\n",
       "std           1.406123         1.635646  ...            0.960834     0.817104\n",
       "min          -4.267039        -7.960328  ...           -4.409592     0.000000\n",
       "25%          -1.007421        -0.871250  ...           -0.591831     0.000000\n",
       "50%           0.085888         0.296278  ...            0.248920     1.000000\n",
       "75%           1.080743         1.518676  ...            0.983239     2.000000\n",
       "max           3.874738         7.168331  ...            4.112542     2.000000\n",
       "\n",
       "[8 rows x 11 columns]"
      ]
     },
     "execution_count": 13,
     "metadata": {},
     "output_type": "execute_result"
    }
   ],
   "source": [
    "df.describe()"
   ]
  },
  {
   "cell_type": "code",
   "execution_count": 15,
   "id": "2bf14ee1-b342-48d2-97e6-b0883babab9d",
   "metadata": {},
   "outputs": [
    {
     "data": {
      "text/plain": [
       "Index(['src_packet_rate', 'dst_packet_rate', 'avg_payload_size',\n",
       "       'connection_duration', 'tcp_flag_count', 'avg_interarrival_time',\n",
       "       'failed_login_attempts', 'unusual_port_activity_score',\n",
       "       'session_entropy', 'avg_response_delay', 'attack_type'],\n",
       "      dtype='object')"
      ]
     },
     "execution_count": 15,
     "metadata": {},
     "output_type": "execute_result"
    }
   ],
   "source": [
    "df.columns"
   ]
  },
  {
   "cell_type": "code",
   "execution_count": 17,
   "id": "779c4257-9680-464a-8dc6-d0e6b4946419",
   "metadata": {},
   "outputs": [],
   "source": [
    "# src_packet_rate -> Source-side packet transmission rate\n",
    "# dst_packet_rate -> Destination-side packet reception rate\n",
    "# avg_payload_size -> Average size of payload in packets\n",
    "# connection_duration -> Duration of the connection (in seconds)\n",
    "# tcp_flag_count -> Number of TCP flag occurrences\n",
    "# avg_interarrival_time -> Time between packet arrivals\n",
    "# failed_login_attempts -> Number of failed login attempts\n",
    "# unusual_port_activity_score -> Score representing unusual port usage\n",
    "# session_entropy -> Entropy of session behavior (for anomaly detection)\n",
    "# avg_response_delay -> Average delay in server response (in ms)\n",
    "# attack_type -> 0 = Normal, 1 = DDoS, 2 = Port Scan"
   ]
  },
  {
   "cell_type": "code",
   "execution_count": 19,
   "id": "bf9a5b3c-ecc9-49bf-be8b-f2ea9f2eb958",
   "metadata": {},
   "outputs": [],
   "source": [
    "X = df.drop(columns=[\"attack_type\"])\n",
    "y = df[\"attack_type\"]"
   ]
  },
  {
   "cell_type": "code",
   "execution_count": 25,
   "id": "fc0e406f-5fe9-4a54-ad2c-e2379fef9574",
   "metadata": {},
   "outputs": [],
   "source": [
    "X_train , X_test, y_train, y_test = train_test_split(X,y,test_size=0.3,random_state=15)"
   ]
  },
  {
   "cell_type": "code",
   "execution_count": 33,
   "id": "3d555a43-f41a-4943-a548-aa86b6eea9de",
   "metadata": {},
   "outputs": [],
   "source": [
    "model = LogisticRegression()\n",
    "model.fit(X_train,y_train)\n",
    "y_pred = model.predict(X_test)"
   ]
  },
  {
   "cell_type": "code",
   "execution_count": 35,
   "id": "2b84f817-a740-4e74-91eb-ac97157e1f39",
   "metadata": {},
   "outputs": [
    {
     "data": {
      "text/plain": [
       "array([2, 0, 0, 0, 2, 0, 1, 1, 2, 0, 2, 1, 2, 1, 0, 0, 2, 2, 0, 2, 0, 0,\n",
       "       0, 1, 1, 1, 1, 2, 2, 2, 1, 0, 2, 2, 2, 2, 1, 2, 1, 0, 2, 1, 0, 2,\n",
       "       1, 1, 2, 0, 0, 0, 2, 0, 1, 2, 0, 2, 1, 2, 2, 1, 0, 0, 0, 2, 1, 2,\n",
       "       1, 0, 2, 0, 2, 0, 2, 1, 2, 0, 2, 1, 1, 2, 1, 0, 1, 2, 2, 0, 2, 2,\n",
       "       1, 0, 1, 0, 0, 0, 1, 1, 2, 1, 1, 0, 1, 1, 1, 2, 1, 1, 1, 0, 0, 1,\n",
       "       2, 1, 2, 1, 0, 1, 2, 0, 0, 1, 0, 0, 2, 1, 0, 1, 0, 2, 2, 1, 0, 2,\n",
       "       2, 2, 1, 2, 0, 2, 0, 2, 1, 0, 2, 0, 2, 2, 0, 1, 1, 2, 1, 2, 1, 1,\n",
       "       0, 0, 1, 1, 1, 2, 2, 0, 0, 2, 2, 1, 2, 1, 1, 1, 0, 0, 1, 0, 1, 2,\n",
       "       0, 2, 2, 0, 2, 1, 1, 1, 2, 1, 0, 1, 0, 1, 1, 2, 0, 2, 1, 2, 1, 0,\n",
       "       1, 2, 0, 2, 1, 0, 1, 0, 2, 1, 0, 1, 2, 0, 0, 0, 0, 0, 0, 1, 2, 0,\n",
       "       2, 0, 2, 1, 2, 1, 0, 0, 1, 1, 2, 1, 0, 2, 1, 0, 2, 1, 1, 2, 2, 1,\n",
       "       1, 2, 2, 1, 2, 2, 2, 2, 0, 2, 2, 2, 0, 2, 0, 0, 1, 2, 1, 1, 2, 0,\n",
       "       2, 0, 1, 0, 1, 2, 2, 1, 2, 2, 2, 2, 0, 2, 1, 0, 0, 0, 2, 1, 2, 2,\n",
       "       2, 1, 0, 0, 2, 1, 2, 2, 1, 2, 1, 2, 1, 2])"
      ]
     },
     "execution_count": 35,
     "metadata": {},
     "output_type": "execute_result"
    }
   ],
   "source": [
    "y_pred"
   ]
  },
  {
   "cell_type": "code",
   "execution_count": 43,
   "id": "4b8e1b05-bc55-4311-aa48-d3461c0a05d6",
   "metadata": {},
   "outputs": [
    {
     "data": {
      "text/plain": [
       "0.7866666666666666"
      ]
     },
     "execution_count": 43,
     "metadata": {},
     "output_type": "execute_result"
    }
   ],
   "source": [
    "model.score(X_test,y_test)   #hyperparamter tuning yapmadan oluşan score"
   ]
  },
  {
   "cell_type": "code",
   "execution_count": 45,
   "id": "b506cc37-45c1-447a-ae65-311c4dcf8f2b",
   "metadata": {},
   "outputs": [],
   "source": [
    "from sklearn.metrics import accuracy_score, confusion_matrix, classification_report"
   ]
  },
  {
   "cell_type": "code",
   "execution_count": 49,
   "id": "a5658c14-74d4-4fbd-9023-2f47c77e13cf",
   "metadata": {},
   "outputs": [
    {
     "name": "stdout",
     "output_type": "stream",
     "text": [
      "score:  0.7866666666666666\n",
      "              precision    recall  f1-score   support\n",
      "\n",
      "           0       0.78      0.91      0.84        90\n",
      "           1       0.74      0.73      0.73        99\n",
      "           2       0.84      0.74      0.78       111\n",
      "\n",
      "    accuracy                           0.79       300\n",
      "   macro avg       0.79      0.79      0.79       300\n",
      "weighted avg       0.79      0.79      0.79       300\n",
      "\n",
      "confusion matrix: \n",
      " [[82  2  6]\n",
      " [17 72 10]\n",
      " [ 6 23 82]]\n"
     ]
    }
   ],
   "source": [
    "score = accuracy_score(y_pred, y_test)\n",
    "print(\"score: \",score)\n",
    "print(classification_report(y_pred,y_test))\n",
    "print(\"confusion matrix: \\n\",confusion_matrix(y_pred, y_test))"
   ]
  },
  {
   "cell_type": "code",
   "execution_count": 51,
   "id": "1e3d208c-ccd4-499f-86e4-4f2ed16a1c8b",
   "metadata": {},
   "outputs": [],
   "source": [
    "from sklearn.multiclass import OneVsOneClassifier, OneVsRestClassifier"
   ]
  },
  {
   "cell_type": "code",
   "execution_count": 53,
   "id": "e27e89d2-dd54-4b02-a177-4b3cd77f11aa",
   "metadata": {},
   "outputs": [],
   "source": [
    "onevsonemodel = OneVsOneClassifier(LogisticRegression())\n",
    "onevsrestmodel = OneVsRestClassifier(LogisticRegression())"
   ]
  },
  {
   "cell_type": "code",
   "execution_count": 55,
   "id": "aba5e47c-3a74-4b32-a4a2-18c2054d0343",
   "metadata": {},
   "outputs": [
    {
     "name": "stdout",
     "output_type": "stream",
     "text": [
      "score:  0.7966666666666666\n",
      "              precision    recall  f1-score   support\n",
      "\n",
      "           0       0.80      0.92      0.86        91\n",
      "           1       0.74      0.76      0.75        95\n",
      "           2       0.85      0.73      0.78       114\n",
      "\n",
      "    accuracy                           0.80       300\n",
      "   macro avg       0.80      0.80      0.80       300\n",
      "weighted avg       0.80      0.80      0.80       300\n",
      "\n",
      "confusion matrix: \n",
      " [[84  3  4]\n",
      " [12 72 11]\n",
      " [ 9 22 83]]\n"
     ]
    }
   ],
   "source": [
    "onevsonemodel.fit(X_train,y_train)\n",
    "y_pred = onevsonemodel.predict(X_test)\n",
    "score = accuracy_score(y_pred, y_test)\n",
    "print(\"score: \",score)\n",
    "print(classification_report(y_pred,y_test))\n",
    "print(\"confusion matrix: \\n\",confusion_matrix(y_pred, y_test))"
   ]
  },
  {
   "cell_type": "code",
   "execution_count": 57,
   "id": "6876b40d-1ce9-4d87-b4d5-52aaca5b7cb6",
   "metadata": {},
   "outputs": [
    {
     "name": "stdout",
     "output_type": "stream",
     "text": [
      "score:  0.7833333333333333\n",
      "              precision    recall  f1-score   support\n",
      "\n",
      "           0       0.79      0.91      0.85        91\n",
      "           1       0.71      0.73      0.72        94\n",
      "           2       0.85      0.72      0.78       115\n",
      "\n",
      "    accuracy                           0.78       300\n",
      "   macro avg       0.78      0.79      0.78       300\n",
      "weighted avg       0.79      0.78      0.78       300\n",
      "\n",
      "confusion matrix: \n",
      " [[83  2  6]\n",
      " [16 69  9]\n",
      " [ 6 26 83]]\n"
     ]
    }
   ],
   "source": [
    "onevsrestmodel.fit(X_train,y_train)\n",
    "y_pred = onevsrestmodel.predict(X_test)\n",
    "score = accuracy_score(y_pred, y_test)\n",
    "print(\"score: \",score)\n",
    "print(classification_report(y_pred,y_test))\n",
    "print(\"confusion matrix: \\n\",confusion_matrix(y_pred, y_test))"
   ]
  },
  {
   "cell_type": "code",
   "execution_count": null,
   "id": "63705a0e-7acf-4053-acb2-ad517d599849",
   "metadata": {},
   "outputs": [],
   "source": []
  }
 ],
 "metadata": {
  "kernelspec": {
   "display_name": "Python 3 (ipykernel)",
   "language": "python",
   "name": "python3"
  },
  "language_info": {
   "codemirror_mode": {
    "name": "ipython",
    "version": 3
   },
   "file_extension": ".py",
   "mimetype": "text/x-python",
   "name": "python",
   "nbconvert_exporter": "python",
   "pygments_lexer": "ipython3",
   "version": "3.12.4"
  }
 },
 "nbformat": 4,
 "nbformat_minor": 5
}
