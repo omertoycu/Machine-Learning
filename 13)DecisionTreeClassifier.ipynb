{
 "cells": [
  {
   "cell_type": "code",
   "execution_count": 149,
   "id": "02bf9e10-d451-47a8-a9cc-0fbaa768d20a",
   "metadata": {},
   "outputs": [],
   "source": [
    "import pandas as pd\n",
    "import numpy as np\n",
    "import matplotlib.pyplot as plt"
   ]
  },
  {
   "cell_type": "code",
   "execution_count": 150,
   "id": "2069fdb7-2901-4c3f-8cf9-f4dc5420a15b",
   "metadata": {},
   "outputs": [],
   "source": [
    "df = pd.read_csv(\"13-car_evaluation.csv\")"
   ]
  },
  {
   "cell_type": "code",
   "execution_count": 151,
   "id": "d0692b40-3fc2-4493-93dc-32b81ff76e57",
   "metadata": {},
   "outputs": [
    {
     "data": {
      "text/html": [
       "<div>\n",
       "<style scoped>\n",
       "    .dataframe tbody tr th:only-of-type {\n",
       "        vertical-align: middle;\n",
       "    }\n",
       "\n",
       "    .dataframe tbody tr th {\n",
       "        vertical-align: top;\n",
       "    }\n",
       "\n",
       "    .dataframe thead th {\n",
       "        text-align: right;\n",
       "    }\n",
       "</style>\n",
       "<table border=\"1\" class=\"dataframe\">\n",
       "  <thead>\n",
       "    <tr style=\"text-align: right;\">\n",
       "      <th></th>\n",
       "      <th>vhigh</th>\n",
       "      <th>vhigh.1</th>\n",
       "      <th>2</th>\n",
       "      <th>2.1</th>\n",
       "      <th>small</th>\n",
       "      <th>low</th>\n",
       "      <th>unacc</th>\n",
       "    </tr>\n",
       "  </thead>\n",
       "  <tbody>\n",
       "    <tr>\n",
       "      <th>0</th>\n",
       "      <td>vhigh</td>\n",
       "      <td>vhigh</td>\n",
       "      <td>2</td>\n",
       "      <td>2</td>\n",
       "      <td>small</td>\n",
       "      <td>med</td>\n",
       "      <td>unacc</td>\n",
       "    </tr>\n",
       "    <tr>\n",
       "      <th>1</th>\n",
       "      <td>vhigh</td>\n",
       "      <td>vhigh</td>\n",
       "      <td>2</td>\n",
       "      <td>2</td>\n",
       "      <td>small</td>\n",
       "      <td>high</td>\n",
       "      <td>unacc</td>\n",
       "    </tr>\n",
       "    <tr>\n",
       "      <th>2</th>\n",
       "      <td>vhigh</td>\n",
       "      <td>vhigh</td>\n",
       "      <td>2</td>\n",
       "      <td>2</td>\n",
       "      <td>med</td>\n",
       "      <td>low</td>\n",
       "      <td>unacc</td>\n",
       "    </tr>\n",
       "    <tr>\n",
       "      <th>3</th>\n",
       "      <td>vhigh</td>\n",
       "      <td>vhigh</td>\n",
       "      <td>2</td>\n",
       "      <td>2</td>\n",
       "      <td>med</td>\n",
       "      <td>med</td>\n",
       "      <td>unacc</td>\n",
       "    </tr>\n",
       "    <tr>\n",
       "      <th>4</th>\n",
       "      <td>vhigh</td>\n",
       "      <td>vhigh</td>\n",
       "      <td>2</td>\n",
       "      <td>2</td>\n",
       "      <td>med</td>\n",
       "      <td>high</td>\n",
       "      <td>unacc</td>\n",
       "    </tr>\n",
       "  </tbody>\n",
       "</table>\n",
       "</div>"
      ],
      "text/plain": [
       "   vhigh vhigh.1  2 2.1  small   low  unacc\n",
       "0  vhigh   vhigh  2   2  small   med  unacc\n",
       "1  vhigh   vhigh  2   2  small  high  unacc\n",
       "2  vhigh   vhigh  2   2    med   low  unacc\n",
       "3  vhigh   vhigh  2   2    med   med  unacc\n",
       "4  vhigh   vhigh  2   2    med  high  unacc"
      ]
     },
     "execution_count": 151,
     "metadata": {},
     "output_type": "execute_result"
    }
   ],
   "source": [
    "df.head()"
   ]
  },
  {
   "cell_type": "code",
   "execution_count": 152,
   "id": "14f047ec-642e-4507-9754-5ffc02fefada",
   "metadata": {},
   "outputs": [
    {
     "data": {
      "text/plain": [
       "(1727, 7)"
      ]
     },
     "execution_count": 152,
     "metadata": {},
     "output_type": "execute_result"
    }
   ],
   "source": [
    "df.shape"
   ]
  },
  {
   "cell_type": "code",
   "execution_count": 153,
   "id": "4801bce4-d485-44c4-a248-de49978c6575",
   "metadata": {},
   "outputs": [],
   "source": [
    "col_names = [\"buying\",\"maint\",\"doors\",\"number_of_persons\",\"lug_boot\",\"safety\",\"class\"]\n",
    "df.columns = col_names"
   ]
  },
  {
   "cell_type": "code",
   "execution_count": 154,
   "id": "c2f9496c-f027-4337-b26c-c1e26706f366",
   "metadata": {},
   "outputs": [
    {
     "data": {
      "text/html": [
       "<div>\n",
       "<style scoped>\n",
       "    .dataframe tbody tr th:only-of-type {\n",
       "        vertical-align: middle;\n",
       "    }\n",
       "\n",
       "    .dataframe tbody tr th {\n",
       "        vertical-align: top;\n",
       "    }\n",
       "\n",
       "    .dataframe thead th {\n",
       "        text-align: right;\n",
       "    }\n",
       "</style>\n",
       "<table border=\"1\" class=\"dataframe\">\n",
       "  <thead>\n",
       "    <tr style=\"text-align: right;\">\n",
       "      <th></th>\n",
       "      <th>buying</th>\n",
       "      <th>maint</th>\n",
       "      <th>doors</th>\n",
       "      <th>number_of_persons</th>\n",
       "      <th>lug_boot</th>\n",
       "      <th>safety</th>\n",
       "      <th>class</th>\n",
       "    </tr>\n",
       "  </thead>\n",
       "  <tbody>\n",
       "    <tr>\n",
       "      <th>0</th>\n",
       "      <td>vhigh</td>\n",
       "      <td>vhigh</td>\n",
       "      <td>2</td>\n",
       "      <td>2</td>\n",
       "      <td>small</td>\n",
       "      <td>med</td>\n",
       "      <td>unacc</td>\n",
       "    </tr>\n",
       "    <tr>\n",
       "      <th>1</th>\n",
       "      <td>vhigh</td>\n",
       "      <td>vhigh</td>\n",
       "      <td>2</td>\n",
       "      <td>2</td>\n",
       "      <td>small</td>\n",
       "      <td>high</td>\n",
       "      <td>unacc</td>\n",
       "    </tr>\n",
       "    <tr>\n",
       "      <th>2</th>\n",
       "      <td>vhigh</td>\n",
       "      <td>vhigh</td>\n",
       "      <td>2</td>\n",
       "      <td>2</td>\n",
       "      <td>med</td>\n",
       "      <td>low</td>\n",
       "      <td>unacc</td>\n",
       "    </tr>\n",
       "    <tr>\n",
       "      <th>3</th>\n",
       "      <td>vhigh</td>\n",
       "      <td>vhigh</td>\n",
       "      <td>2</td>\n",
       "      <td>2</td>\n",
       "      <td>med</td>\n",
       "      <td>med</td>\n",
       "      <td>unacc</td>\n",
       "    </tr>\n",
       "    <tr>\n",
       "      <th>4</th>\n",
       "      <td>vhigh</td>\n",
       "      <td>vhigh</td>\n",
       "      <td>2</td>\n",
       "      <td>2</td>\n",
       "      <td>med</td>\n",
       "      <td>high</td>\n",
       "      <td>unacc</td>\n",
       "    </tr>\n",
       "    <tr>\n",
       "      <th>...</th>\n",
       "      <td>...</td>\n",
       "      <td>...</td>\n",
       "      <td>...</td>\n",
       "      <td>...</td>\n",
       "      <td>...</td>\n",
       "      <td>...</td>\n",
       "      <td>...</td>\n",
       "    </tr>\n",
       "    <tr>\n",
       "      <th>1722</th>\n",
       "      <td>low</td>\n",
       "      <td>low</td>\n",
       "      <td>5more</td>\n",
       "      <td>more</td>\n",
       "      <td>med</td>\n",
       "      <td>med</td>\n",
       "      <td>good</td>\n",
       "    </tr>\n",
       "    <tr>\n",
       "      <th>1723</th>\n",
       "      <td>low</td>\n",
       "      <td>low</td>\n",
       "      <td>5more</td>\n",
       "      <td>more</td>\n",
       "      <td>med</td>\n",
       "      <td>high</td>\n",
       "      <td>vgood</td>\n",
       "    </tr>\n",
       "    <tr>\n",
       "      <th>1724</th>\n",
       "      <td>low</td>\n",
       "      <td>low</td>\n",
       "      <td>5more</td>\n",
       "      <td>more</td>\n",
       "      <td>big</td>\n",
       "      <td>low</td>\n",
       "      <td>unacc</td>\n",
       "    </tr>\n",
       "    <tr>\n",
       "      <th>1725</th>\n",
       "      <td>low</td>\n",
       "      <td>low</td>\n",
       "      <td>5more</td>\n",
       "      <td>more</td>\n",
       "      <td>big</td>\n",
       "      <td>med</td>\n",
       "      <td>good</td>\n",
       "    </tr>\n",
       "    <tr>\n",
       "      <th>1726</th>\n",
       "      <td>low</td>\n",
       "      <td>low</td>\n",
       "      <td>5more</td>\n",
       "      <td>more</td>\n",
       "      <td>big</td>\n",
       "      <td>high</td>\n",
       "      <td>vgood</td>\n",
       "    </tr>\n",
       "  </tbody>\n",
       "</table>\n",
       "<p>1727 rows × 7 columns</p>\n",
       "</div>"
      ],
      "text/plain": [
       "     buying  maint  doors number_of_persons lug_boot safety  class\n",
       "0     vhigh  vhigh      2                 2    small    med  unacc\n",
       "1     vhigh  vhigh      2                 2    small   high  unacc\n",
       "2     vhigh  vhigh      2                 2      med    low  unacc\n",
       "3     vhigh  vhigh      2                 2      med    med  unacc\n",
       "4     vhigh  vhigh      2                 2      med   high  unacc\n",
       "...     ...    ...    ...               ...      ...    ...    ...\n",
       "1722    low    low  5more              more      med    med   good\n",
       "1723    low    low  5more              more      med   high  vgood\n",
       "1724    low    low  5more              more      big    low  unacc\n",
       "1725    low    low  5more              more      big    med   good\n",
       "1726    low    low  5more              more      big   high  vgood\n",
       "\n",
       "[1727 rows x 7 columns]"
      ]
     },
     "execution_count": 154,
     "metadata": {},
     "output_type": "execute_result"
    }
   ],
   "source": [
    "df"
   ]
  },
  {
   "cell_type": "code",
   "execution_count": 155,
   "id": "948e96de-a029-4981-ba3a-c8f3d8c4fcdc",
   "metadata": {},
   "outputs": [
    {
     "name": "stdout",
     "output_type": "stream",
     "text": [
      "<class 'pandas.core.frame.DataFrame'>\n",
      "RangeIndex: 1727 entries, 0 to 1726\n",
      "Data columns (total 7 columns):\n",
      " #   Column             Non-Null Count  Dtype \n",
      "---  ------             --------------  ----- \n",
      " 0   buying             1727 non-null   object\n",
      " 1   maint              1727 non-null   object\n",
      " 2   doors              1727 non-null   object\n",
      " 3   number_of_persons  1727 non-null   object\n",
      " 4   lug_boot           1727 non-null   object\n",
      " 5   safety             1727 non-null   object\n",
      " 6   class              1727 non-null   object\n",
      "dtypes: object(7)\n",
      "memory usage: 94.6+ KB\n"
     ]
    }
   ],
   "source": [
    "df.info()"
   ]
  },
  {
   "cell_type": "code",
   "execution_count": 156,
   "id": "6dba455f-3321-4440-adfe-71ba7c78fa77",
   "metadata": {},
   "outputs": [
    {
     "name": "stdout",
     "output_type": "stream",
     "text": [
      "buying\n",
      "high     432\n",
      "med      432\n",
      "low      432\n",
      "vhigh    431\n",
      "Name: count, dtype: int64\n",
      "maint\n",
      "high     432\n",
      "med      432\n",
      "low      432\n",
      "vhigh    431\n",
      "Name: count, dtype: int64\n",
      "doors\n",
      "3        432\n",
      "4        432\n",
      "5more    432\n",
      "2        431\n",
      "Name: count, dtype: int64\n",
      "number_of_persons\n",
      "4       576\n",
      "more    576\n",
      "2       575\n",
      "Name: count, dtype: int64\n",
      "lug_boot\n",
      "med      576\n",
      "big      576\n",
      "small    575\n",
      "Name: count, dtype: int64\n",
      "safety\n",
      "med     576\n",
      "high    576\n",
      "low     575\n",
      "Name: count, dtype: int64\n",
      "class\n",
      "unacc    1209\n",
      "acc       384\n",
      "good       69\n",
      "vgood      65\n",
      "Name: count, dtype: int64\n"
     ]
    }
   ],
   "source": [
    "for col in df.columns:\n",
    "    print(df[col].value_counts())"
   ]
  },
  {
   "cell_type": "code",
   "execution_count": 157,
   "id": "d601f812-8747-41a3-ae50-b4918978a75b",
   "metadata": {},
   "outputs": [],
   "source": [
    "#class --> target variable -- doors, persons -> numeric variable -- rest --> categorical "
   ]
  },
  {
   "cell_type": "code",
   "execution_count": 158,
   "id": "c8d2de6c-9712-4795-8afb-ed7d35ff7453",
   "metadata": {},
   "outputs": [
    {
     "data": {
      "text/plain": [
       "buying               0\n",
       "maint                0\n",
       "doors                0\n",
       "number_of_persons    0\n",
       "lug_boot             0\n",
       "safety               0\n",
       "class                0\n",
       "dtype: int64"
      ]
     },
     "execution_count": 158,
     "metadata": {},
     "output_type": "execute_result"
    }
   ],
   "source": [
    "df.isna().sum()"
   ]
  },
  {
   "cell_type": "code",
   "execution_count": 159,
   "id": "1a5a003a-033c-4377-ada5-51edb9c5b60c",
   "metadata": {},
   "outputs": [
    {
     "data": {
      "text/plain": [
       "array(['2', '3', '4', '5more'], dtype=object)"
      ]
     },
     "execution_count": 159,
     "metadata": {},
     "output_type": "execute_result"
    }
   ],
   "source": [
    "df[\"doors\"].unique()"
   ]
  },
  {
   "cell_type": "code",
   "execution_count": 160,
   "id": "ac200976-aca0-4cf9-9a1e-de54f395310c",
   "metadata": {},
   "outputs": [],
   "source": [
    "df[\"doors\"] = df[\"doors\"].replace(\"5more\", \"5\")"
   ]
  },
  {
   "cell_type": "code",
   "execution_count": 161,
   "id": "63c93ffd-2424-4eb6-a5e1-93c1e92f74bd",
   "metadata": {},
   "outputs": [
    {
     "data": {
      "text/plain": [
       "array(['2', '3', '4', '5'], dtype=object)"
      ]
     },
     "execution_count": 161,
     "metadata": {},
     "output_type": "execute_result"
    }
   ],
   "source": [
    "df[\"doors\"].unique()"
   ]
  },
  {
   "cell_type": "code",
   "execution_count": 162,
   "id": "2a9f9002-5bd2-4f9c-9f3e-655a04d3a491",
   "metadata": {},
   "outputs": [],
   "source": [
    "df[\"doors\"] = df[\"doors\"].astype(int)"
   ]
  },
  {
   "cell_type": "code",
   "execution_count": 163,
   "id": "ebe5b0de-a077-4941-99a8-acd184acdd38",
   "metadata": {},
   "outputs": [
    {
     "data": {
      "text/plain": [
       "array([2, 3, 4, 5])"
      ]
     },
     "execution_count": 163,
     "metadata": {},
     "output_type": "execute_result"
    }
   ],
   "source": [
    "df[\"doors\"].unique()"
   ]
  },
  {
   "cell_type": "code",
   "execution_count": 164,
   "id": "5f86cba3-9b51-4a83-bd87-986815a59137",
   "metadata": {},
   "outputs": [
    {
     "data": {
      "text/plain": [
       "array(['2', '4', 'more'], dtype=object)"
      ]
     },
     "execution_count": 164,
     "metadata": {},
     "output_type": "execute_result"
    }
   ],
   "source": [
    "df[\"number_of_persons\"].unique()"
   ]
  },
  {
   "cell_type": "code",
   "execution_count": 165,
   "id": "9300f7e9-4f57-4853-8ee6-c3be4b904b5e",
   "metadata": {},
   "outputs": [],
   "source": [
    "df[\"number_of_persons\"] = df[\"number_of_persons\"].replace(\"more\", \"5\")"
   ]
  },
  {
   "cell_type": "code",
   "execution_count": 166,
   "id": "b0cb5932-b02f-4d81-bb0f-b7d3ecb0616d",
   "metadata": {},
   "outputs": [],
   "source": [
    "df[\"number_of_persons\"] = df[\"number_of_persons\"].astype(int)"
   ]
  },
  {
   "cell_type": "code",
   "execution_count": 167,
   "id": "785352c8-8a60-4095-a750-25bff54769ae",
   "metadata": {},
   "outputs": [
    {
     "data": {
      "text/plain": [
       "array([2, 4, 5])"
      ]
     },
     "execution_count": 167,
     "metadata": {},
     "output_type": "execute_result"
    }
   ],
   "source": [
    "df[\"number_of_persons\"].unique()"
   ]
  },
  {
   "cell_type": "code",
   "execution_count": 168,
   "id": "b9192d1f-e8cc-4726-b54b-c60980892bb1",
   "metadata": {},
   "outputs": [],
   "source": [
    "import seaborn as sns"
   ]
  },
  {
   "cell_type": "code",
   "execution_count": 169,
   "id": "4a38694a-ba2c-49f7-9eae-cdcfd24d71c8",
   "metadata": {
    "scrolled": true
   },
   "outputs": [
    {
     "data": {
      "image/png": "[encoded data removed]",
      "text/plain": [
       "<Figure size 640x480 with 1 Axes>"
      ]
     },
     "metadata": {},
     "output_type": "display_data"
    }
   ],
   "source": [
    "sns.scatterplot(x=df[\"buying\"], y=df[\"maint\"],hue= df[\"class\"])\n",
    "plt.show()"
   ]
  },
  {
   "cell_type": "code",
   "execution_count": 170,
   "id": "a6476df3-a072-4951-9a79-9b15e4a8bcb9",
   "metadata": {},
   "outputs": [],
   "source": [
    "from sklearn.model_selection import train_test_split"
   ]
  },
  {
   "cell_type": "code",
   "execution_count": 171,
   "id": "df0135ee-1f25-4fda-8c78-ba58cfbd1cf1",
   "metadata": {},
   "outputs": [],
   "source": [
    "X = df.drop(\"class\",axis=1)\n",
    "y = df[\"class\"]"
   ]
  },
  {
   "cell_type": "code",
   "execution_count": 172,
   "id": "a7613bd8-fcfd-4a66-b3d2-17cb266562e6",
   "metadata": {},
   "outputs": [],
   "source": [
    "X_train, X_test, y_train, y_test = train_test_split(X, y, test_size=0.3, random_state=15)"
   ]
  },
  {
   "cell_type": "code",
   "execution_count": 173,
   "id": "fe9e2be1-308a-4e7f-ac85-4be6220b8c64",
   "metadata": {},
   "outputs": [
    {
     "data": {
      "text/plain": [
       "(1208, 6)"
      ]
     },
     "execution_count": 173,
     "metadata": {},
     "output_type": "execute_result"
    }
   ],
   "source": [
    "X_train.shape"
   ]
  },
  {
   "cell_type": "code",
   "execution_count": 174,
   "id": "aa01658e-736c-4149-8c70-62a01db3e635",
   "metadata": {},
   "outputs": [],
   "source": [
    "from sklearn.preprocessing import OrdinalEncoder\n",
    "from sklearn.pipeline import Pipeline\n",
    "from sklearn.compose import ColumnTransformer"
   ]
  },
  {
   "cell_type": "code",
   "execution_count": 175,
   "id": "2c4bc7e3-34b6-42fe-a400-5a0a8df5b9a5",
   "metadata": {},
   "outputs": [],
   "source": [
    "categorical_col = [\"buying\", \"maint\",\"lug_boot\",\"safety\"]\n",
    "numerical_col = [\"doors\",\"number_of_persons\"] "
   ]
  },
  {
   "cell_type": "code",
   "execution_count": 183,
   "id": "b604744e-0685-49ff-9338-3d13e78bc494",
   "metadata": {},
   "outputs": [],
   "source": [
    "ordinal_encoder = OrdinalEncoder(categories = [ \n",
    "    [\"low\",\"med\",\"high\",\"vhigh\"], #buying\n",
    "    [\"low\",\"med\",\"high\",\"vhigh\"], #maint\n",
    "    [\"small\",\"med\",\"big\"],  #lug_boot\n",
    "    [\"low\",\"med\",\"high\"]   #safety\n",
    "])\n",
    "\n",
    "processor = ColumnTransformer(transformers= [  \n",
    "  (\"transformation_name_doesnt_matter\", ordinal_encoder, categorical_col)  \n",
    "],remainder=\"passthrough\")\n",
    "#Farklı kolonları farklı şekilde transform etmek için kullanılır\n",
    "\n",
    "X_train_transformed = processor.fit_transform(X_train)\n",
    "X_test_transformed = processor.transform(X_test)"
   ]
  },
  {
   "cell_type": "code",
   "execution_count": 185,
   "id": "57288907-02d9-47dc-8d25-ab601f10845f",
   "metadata": {},
   "outputs": [
    {
     "data": {
      "text/plain": [
       "array([2., 4., 5.])"
      ]
     },
     "execution_count": 185,
     "metadata": {},
     "output_type": "execute_result"
    }
   ],
   "source": [
    "pd.DataFrame(X_train_transformerd)[5].unique() #doğru şekilde label vermiş"
   ]
  },
  {
   "cell_type": "code",
   "execution_count": 187,
   "id": "e74b4ca3-7d57-46c8-8865-239fe7f7c962",
   "metadata": {},
   "outputs": [],
   "source": [
    "from sklearn.tree import DecisionTreeClassifier"
   ]
  },
  {
   "cell_type": "code",
   "execution_count": 189,
   "id": "0b636da2-c097-424a-903f-45495744110e",
   "metadata": {},
   "outputs": [],
   "source": [
    "tree_model = DecisionTreeClassifier(\n",
    "    criterion='gini', \n",
    "    splitter='best', \n",
    "    max_depth=3, \n",
    "    min_samples_split=2,\n",
    "    min_samples_leaf=1,\n",
    "    max_features=None,\n",
    "    random_state=0\n",
    ")\n",
    "tree_model.fit(X_train_transformerd,y_train)\n",
    "y_pred = tree_model.predict(X_test_transformed)"
   ]
  },
  {
   "cell_type": "code",
   "execution_count": 191,
   "id": "422e7949-c03c-401f-b3ef-f432c1b85907",
   "metadata": {},
   "outputs": [],
   "source": [
    "from sklearn.metrics import confusion_matrix, accuracy_score , classification_report"
   ]
  },
  {
   "cell_type": "code",
   "execution_count": 193,
   "id": "d5b21efb-a5f3-4f6f-a721-da8c82deda85",
   "metadata": {},
   "outputs": [
    {
     "name": "stdout",
     "output_type": "stream",
     "text": [
      "0.7861271676300579\n",
      "[[ 62   0  59   0]\n",
      " [ 21   0   0   0]\n",
      " [ 10   0 346   0]\n",
      " [ 21   0   0   0]]\n",
      "              precision    recall  f1-score   support\n",
      "\n",
      "         acc       0.54      0.51      0.53       121\n",
      "        good       0.00      0.00      0.00        21\n",
      "       unacc       0.85      0.97      0.91       356\n",
      "       vgood       0.00      0.00      0.00        21\n",
      "\n",
      "    accuracy                           0.79       519\n",
      "   macro avg       0.35      0.37      0.36       519\n",
      "weighted avg       0.71      0.79      0.75       519\n",
      "\n"
     ]
    },
    {
     "name": "stderr",
     "output_type": "stream",
     "text": [
      "C:\\Users\\omerf\\anaconda3\\Lib\\site-packages\\sklearn\\metrics\\_classification.py:1565: UndefinedMetricWarning: Precision is ill-defined and being set to 0.0 in labels with no predicted samples. Use `zero_division` parameter to control this behavior.\n",
      "  _warn_prf(average, modifier, f\"{metric.capitalize()} is\", len(result))\n",
      "C:\\Users\\omerf\\anaconda3\\Lib\\site-packages\\sklearn\\metrics\\_classification.py:1565: UndefinedMetricWarning: Precision is ill-defined and being set to 0.0 in labels with no predicted samples. Use `zero_division` parameter to control this behavior.\n",
      "  _warn_prf(average, modifier, f\"{metric.capitalize()} is\", len(result))\n",
      "C:\\Users\\omerf\\anaconda3\\Lib\\site-packages\\sklearn\\metrics\\_classification.py:1565: UndefinedMetricWarning: Precision is ill-defined and being set to 0.0 in labels with no predicted samples. Use `zero_division` parameter to control this behavior.\n",
      "  _warn_prf(average, modifier, f\"{metric.capitalize()} is\", len(result))\n"
     ]
    }
   ],
   "source": [
    "print(accuracy_score(y_test, y_pred))\n",
    "print(confusion_matrix(y_test, y_pred))\n",
    "print(classification_report(y_test, y_pred))"
   ]
  },
  {
   "cell_type": "code",
   "execution_count": 198,
   "id": "fa23d938-0f08-4a95-b708-ccfa03a29b6d",
   "metadata": {},
   "outputs": [
    {
     "data": {
      "text/plain": [
       "[Text(0.3333333333333333, 0.875, 'number_of_persons <= 3.0\\ngini = 0.451\\nsamples = 1208\\nvalue = [263, 48, 853, 44]'),\n",
       " Text(0.16666666666666666, 0.625, 'gini = 0.0\\nsamples = 409\\nvalue = [0, 0, 409, 0]'),\n",
       " Text(0.25, 0.75, 'True  '),\n",
       " Text(0.5, 0.625, 'safety <= 0.5\\ngini = 0.576\\nsamples = 799\\nvalue = [263, 48, 444, 44]'),\n",
       " Text(0.41666666666666663, 0.75, '  False'),\n",
       " Text(0.3333333333333333, 0.375, 'gini = 0.0\\nsamples = 269\\nvalue = [0, 0, 269, 0]'),\n",
       " Text(0.6666666666666666, 0.375, 'buying <= 1.5\\ngini = 0.63\\nsamples = 530\\nvalue = [263, 48, 175, 44]'),\n",
       " Text(0.5, 0.125, 'gini = 0.647\\nsamples = 270\\nvalue = [142, 48, 36, 44]'),\n",
       " Text(0.8333333333333334, 0.125, 'gini = 0.498\\nsamples = 260\\nvalue = [121, 0, 139, 0]')]"
      ]
     },
     "execution_count": 198,
     "metadata": {},
     "output_type": "execute_result"
    },
    {
     "data": {
      "image/png": "[encoded data removed]",
      "text/plain": [
       "<Figure size 1200x800 with 1 Axes>"
      ]
     },
     "metadata": {},
     "output_type": "display_data"
    }
   ],
   "source": [
    "plt.figure(figsize=(12,8))\n",
    "\n",
    "from sklearn import tree\n",
    "\n",
    "column_names = categorical_col + numerical_col\n",
    "tree.plot_tree(tree_model.fit(X_train_transformed, y_train),feature_names=column_names)"
   ]
  },
  {
   "cell_type": "code",
   "execution_count": 200,
   "id": "57a7fa65-7877-4bff-9891-b82324166474",
   "metadata": {},
   "outputs": [],
   "source": [
    "#hyperparameter tuning"
   ]
  },
  {
   "cell_type": "code",
   "execution_count": 203,
   "id": "fb7a2be9-ef9c-455f-a9b5-4eb60eb6a282",
   "metadata": {},
   "outputs": [],
   "source": [
    "param = {\n",
    "    \"criterion\" : [\"gini\", \"entropy\", \"log_loss\"],\n",
    "    \"splitter\" : [\"best\", \"random\"],\n",
    "    \"max_depth\" : [1,2,3,4,5,15,None],\n",
    "    \"max_features\" : [\"sqrt\", \"log2\", None]\n",
    "}\n"
   ]
  },
  {
   "cell_type": "code",
   "execution_count": 205,
   "id": "15b8b205-78fb-43e9-b94d-446fb8077839",
   "metadata": {},
   "outputs": [],
   "source": [
    "from sklearn.model_selection import GridSearchCV"
   ]
  },
  {
   "cell_type": "code",
   "execution_count": 207,
   "id": "c76da5e3-7fac-435a-a22c-dd242122610f",
   "metadata": {},
   "outputs": [],
   "source": [
    "grid = GridSearchCV(estimator=DecisionTreeClassifier(), param_grid=param, cv=5, scoring=\"accuracy\")"
   ]
  },
  {
   "cell_type": "code",
   "execution_count": 211,
   "id": "cb466de0-ee97-4911-8077-9cd89828e301",
   "metadata": {},
   "outputs": [
    {
     "data": {
      "text/html": [
       "<style>#sk-container-id-1 {\n",
       "  /* Definition of color scheme common for light and dark mode */\n",
       "  --sklearn-color-text: #000;\n",
       "  --sklearn-color-text-muted: #666;\n",
       "  --sklearn-color-line: gray;\n",
       "  /* Definition of color scheme for unfitted estimators */\n",
       "  --sklearn-color-unfitted-level-0: #fff5e6;\n",
       "  --sklearn-color-unfitted-level-1: #f6e4d2;\n",
       "  --sklearn-color-unfitted-level-2: #ffe0b3;\n",
       "  --sklearn-color-unfitted-level-3: chocolate;\n",
       "  /* Definition of color scheme for fitted estimators */\n",
       "  --sklearn-color-fitted-level-0: #f0f8ff;\n",
       "  --sklearn-color-fitted-level-1: #d4ebff;\n",
       "  --sklearn-color-fitted-level-2: #b3dbfd;\n",
       "  --sklearn-color-fitted-level-3: cornflowerblue;\n",
       "\n",
       "  /* Specific color for light theme */\n",
       "  --sklearn-color-text-on-default-background: var(--sg-text-color, var(--theme-code-foreground, var(--jp-content-font-color1, black)));\n",
       "  --sklearn-color-background: var(--sg-background-color, var(--theme-background, var(--jp-layout-color0, white)));\n",
       "  --sklearn-color-border-box: var(--sg-text-color, var(--theme-code-foreground, var(--jp-content-font-color1, black)));\n",
       "  --sklearn-color-icon: #696969;\n",
       "\n",
       "  @media (prefers-color-scheme: dark) {\n",
       "    /* Redefinition of color scheme for dark theme */\n",
       "    --sklearn-color-text-on-default-background: var(--sg-text-color, var(--theme-code-foreground, var(--jp-content-font-color1, white)));\n",
       "    --sklearn-color-background: var(--sg-background-color, var(--theme-background, var(--jp-layout-color0, #111)));\n",
       "    --sklearn-color-border-box: var(--sg-text-color, var(--theme-code-foreground, var(--jp-content-font-color1, white)));\n",
       "    --sklearn-color-icon: #878787;\n",
       "  }\n",
       "}\n",
       "\n",
       "#sk-container-id-1 {\n",
       "  color: var(--sklearn-color-text);\n",
       "}\n",
       "\n",
       "#sk-container-id-1 pre {\n",
       "  padding: 0;\n",
       "}\n",
       "\n",
       "#sk-container-id-1 input.sk-hidden--visually {\n",
       "  border: 0;\n",
       "  clip: rect(1px 1px 1px 1px);\n",
       "  clip: rect(1px, 1px, 1px, 1px);\n",
       "  height: 1px;\n",
       "  margin: -1px;\n",
       "  overflow: hidden;\n",
       "  padding: 0;\n",
       "  position: absolute;\n",
       "  width: 1px;\n",
       "}\n",
       "\n",
       "#sk-container-id-1 div.sk-dashed-wrapped {\n",
       "  border: 1px dashed var(--sklearn-color-line);\n",
       "  margin: 0 0.4em 0.5em 0.4em;\n",
       "  box-sizing: border-box;\n",
       "  padding-bottom: 0.4em;\n",
       "  background-color: var(--sklearn-color-background);\n",
       "}\n",
       "\n",
       "#sk-container-id-1 div.sk-container {\n",
       "  /* jupyter's `normalize.less` sets `[hidden] { display: none; }`\n",
       "     but bootstrap.min.css set `[hidden] { display: none !important; }`\n",
       "     so we also need the `!important` here to be able to override the\n",
       "     default hidden behavior on the sphinx rendered scikit-learn.org.\n",
       "     See: https://github.com/scikit-learn/scikit-learn/issues/21755 */\n",
       "  display: inline-block !important;\n",
       "  position: relative;\n",
       "}\n",
       "\n",
       "#sk-container-id-1 div.sk-text-repr-fallback {\n",
       "  display: none;\n",
       "}\n",
       "\n",
       "div.sk-parallel-item,\n",
       "div.sk-serial,\n",
       "div.sk-item {\n",
       "  /* draw centered vertical line to link estimators */\n",
       "  background-image: linear-gradient(var(--sklearn-color-text-on-default-background), var(--sklearn-color-text-on-default-background));\n",
       "  background-size: 2px 100%;\n",
       "  background-repeat: no-repeat;\n",
       "  background-position: center center;\n",
       "}\n",
       "\n",
       "/* Parallel-specific style estimator block */\n",
       "\n",
       "#sk-container-id-1 div.sk-parallel-item::after {\n",
       "  content: \"\";\n",
       "  width: 100%;\n",
       "  border-bottom: 2px solid var(--sklearn-color-text-on-default-background);\n",
       "  flex-grow: 1;\n",
       "}\n",
       "\n",
       "#sk-container-id-1 div.sk-parallel {\n",
       "  display: flex;\n",
       "  align-items: stretch;\n",
       "  justify-content: center;\n",
       "  background-color: var(--sklearn-color-background);\n",
       "  position: relative;\n",
       "}\n",
       "\n",
       "#sk-container-id-1 div.sk-parallel-item {\n",
       "  display: flex;\n",
       "  flex-direction: column;\n",
       "}\n",
       "\n",
       "#sk-container-id-1 div.sk-parallel-item:first-child::after {\n",
       "  align-self: flex-end;\n",
       "  width: 50%;\n",
       "}\n",
       "\n",
       "#sk-container-id-1 div.sk-parallel-item:last-child::after {\n",
       "  align-self: flex-start;\n",
       "  width: 50%;\n",
       "}\n",
       "\n",
       "#sk-container-id-1 div.sk-parallel-item:only-child::after {\n",
       "  width: 0;\n",
       "}\n",
       "\n",
       "/* Serial-specific style estimator block */\n",
       "\n",
       "#sk-container-id-1 div.sk-serial {\n",
       "  display: flex;\n",
       "  flex-direction: column;\n",
       "  align-items: center;\n",
       "  background-color: var(--sklearn-color-background);\n",
       "  padding-right: 1em;\n",
       "  padding-left: 1em;\n",
       "}\n",
       "\n",
       "\n",
       "/* Toggleable style: style used for estimator/Pipeline/ColumnTransformer box that is\n",
       "clickable and can be expanded/collapsed.\n",
       "- Pipeline and ColumnTransformer use this feature and define the default style\n",
       "- Estimators will overwrite some part of the style using the `sk-estimator` class\n",
       "*/\n",
       "\n",
       "/* Pipeline and ColumnTransformer style (default) */\n",
       "\n",
       "#sk-container-id-1 div.sk-toggleable {\n",
       "  /* Default theme specific background. It is overwritten whether we have a\n",
       "  specific estimator or a Pipeline/ColumnTransformer */\n",
       "  background-color: var(--sklearn-color-background);\n",
       "}\n",
       "\n",
       "/* Toggleable label */\n",
       "#sk-container-id-1 label.sk-toggleable__label {\n",
       "  cursor: pointer;\n",
       "  display: flex;\n",
       "  width: 100%;\n",
       "  margin-bottom: 0;\n",
       "  padding: 0.5em;\n",
       "  box-sizing: border-box;\n",
       "  text-align: center;\n",
       "  align-items: start;\n",
       "  justify-content: space-between;\n",
       "  gap: 0.5em;\n",
       "}\n",
       "\n",
       "#sk-container-id-1 label.sk-toggleable__label .caption {\n",
       "  font-size: 0.6rem;\n",
       "  font-weight: lighter;\n",
       "  color: var(--sklearn-color-text-muted);\n",
       "}\n",
       "\n",
       "#sk-container-id-1 label.sk-toggleable__label-arrow:before {\n",
       "  /* Arrow on the left of the label */\n",
       "  content: \"▸\";\n",
       "  float: left;\n",
       "  margin-right: 0.25em;\n",
       "  color: var(--sklearn-color-icon);\n",
       "}\n",
       "\n",
       "#sk-container-id-1 label.sk-toggleable__label-arrow:hover:before {\n",
       "  color: var(--sklearn-color-text);\n",
       "}\n",
       "\n",
       "/* Toggleable content - dropdown */\n",
       "\n",
       "#sk-container-id-1 div.sk-toggleable__content {\n",
       "  max-height: 0;\n",
       "  max-width: 0;\n",
       "  overflow: hidden;\n",
       "  text-align: left;\n",
       "  /* unfitted */\n",
       "  background-color: var(--sklearn-color-unfitted-level-0);\n",
       "}\n",
       "\n",
       "#sk-container-id-1 div.sk-toggleable__content.fitted {\n",
       "  /* fitted */\n",
       "  background-color: var(--sklearn-color-fitted-level-0);\n",
       "}\n",
       "\n",
       "#sk-container-id-1 div.sk-toggleable__content pre {\n",
       "  margin: 0.2em;\n",
       "  border-radius: 0.25em;\n",
       "  color: var(--sklearn-color-text);\n",
       "  /* unfitted */\n",
       "  background-color: var(--sklearn-color-unfitted-level-0);\n",
       "}\n",
       "\n",
       "#sk-container-id-1 div.sk-toggleable__content.fitted pre {\n",
       "  /* unfitted */\n",
       "  background-color: var(--sklearn-color-fitted-level-0);\n",
       "}\n",
       "\n",
       "#sk-container-id-1 input.sk-toggleable__control:checked~div.sk-toggleable__content {\n",
       "  /* Expand drop-down */\n",
       "  max-height: 200px;\n",
       "  max-width: 100%;\n",
       "  overflow: auto;\n",
       "}\n",
       "\n",
       "#sk-container-id-1 input.sk-toggleable__control:checked~label.sk-toggleable__label-arrow:before {\n",
       "  content: \"▾\";\n",
       "}\n",
       "\n",
       "/* Pipeline/ColumnTransformer-specific style */\n",
       "\n",
       "#sk-container-id-1 div.sk-label input.sk-toggleable__control:checked~label.sk-toggleable__label {\n",
       "  color: var(--sklearn-color-text);\n",
       "  background-color: var(--sklearn-color-unfitted-level-2);\n",
       "}\n",
       "\n",
       "#sk-container-id-1 div.sk-label.fitted input.sk-toggleable__control:checked~label.sk-toggleable__label {\n",
       "  background-color: var(--sklearn-color-fitted-level-2);\n",
       "}\n",
       "\n",
       "/* Estimator-specific style */\n",
       "\n",
       "/* Colorize estimator box */\n",
       "#sk-container-id-1 div.sk-estimator input.sk-toggleable__control:checked~label.sk-toggleable__label {\n",
       "  /* unfitted */\n",
       "  background-color: var(--sklearn-color-unfitted-level-2);\n",
       "}\n",
       "\n",
       "#sk-container-id-1 div.sk-estimator.fitted input.sk-toggleable__control:checked~label.sk-toggleable__label {\n",
       "  /* fitted */\n",
       "  background-color: var(--sklearn-color-fitted-level-2);\n",
       "}\n",
       "\n",
       "#sk-container-id-1 div.sk-label label.sk-toggleable__label,\n",
       "#sk-container-id-1 div.sk-label label {\n",
       "  /* The background is the default theme color */\n",
       "  color: var(--sklearn-color-text-on-default-background);\n",
       "}\n",
       "\n",
       "/* On hover, darken the color of the background */\n",
       "#sk-container-id-1 div.sk-label:hover label.sk-toggleable__label {\n",
       "  color: var(--sklearn-color-text);\n",
       "  background-color: var(--sklearn-color-unfitted-level-2);\n",
       "}\n",
       "\n",
       "/* Label box, darken color on hover, fitted */\n",
       "#sk-container-id-1 div.sk-label.fitted:hover label.sk-toggleable__label.fitted {\n",
       "  color: var(--sklearn-color-text);\n",
       "  background-color: var(--sklearn-color-fitted-level-2);\n",
       "}\n",
       "\n",
       "/* Estimator label */\n",
       "\n",
       "#sk-container-id-1 div.sk-label label {\n",
       "  font-family: monospace;\n",
       "  font-weight: bold;\n",
       "  display: inline-block;\n",
       "  line-height: 1.2em;\n",
       "}\n",
       "\n",
       "#sk-container-id-1 div.sk-label-container {\n",
       "  text-align: center;\n",
       "}\n",
       "\n",
       "/* Estimator-specific */\n",
       "#sk-container-id-1 div.sk-estimator {\n",
       "  font-family: monospace;\n",
       "  border: 1px dotted var(--sklearn-color-border-box);\n",
       "  border-radius: 0.25em;\n",
       "  box-sizing: border-box;\n",
       "  margin-bottom: 0.5em;\n",
       "  /* unfitted */\n",
       "  background-color: var(--sklearn-color-unfitted-level-0);\n",
       "}\n",
       "\n",
       "#sk-container-id-1 div.sk-estimator.fitted {\n",
       "  /* fitted */\n",
       "  background-color: var(--sklearn-color-fitted-level-0);\n",
       "}\n",
       "\n",
       "/* on hover */\n",
       "#sk-container-id-1 div.sk-estimator:hover {\n",
       "  /* unfitted */\n",
       "  background-color: var(--sklearn-color-unfitted-level-2);\n",
       "}\n",
       "\n",
       "#sk-container-id-1 div.sk-estimator.fitted:hover {\n",
       "  /* fitted */\n",
       "  background-color: var(--sklearn-color-fitted-level-2);\n",
       "}\n",
       "\n",
       "/* Specification for estimator info (e.g. \"i\" and \"?\") */\n",
       "\n",
       "/* Common style for \"i\" and \"?\" */\n",
       "\n",
       ".sk-estimator-doc-link,\n",
       "a:link.sk-estimator-doc-link,\n",
       "a:visited.sk-estimator-doc-link {\n",
       "  float: right;\n",
       "  font-size: smaller;\n",
       "  line-height: 1em;\n",
       "  font-family: monospace;\n",
       "  background-color: var(--sklearn-color-background);\n",
       "  border-radius: 1em;\n",
       "  height: 1em;\n",
       "  width: 1em;\n",
       "  text-decoration: none !important;\n",
       "  margin-left: 0.5em;\n",
       "  text-align: center;\n",
       "  /* unfitted */\n",
       "  border: var(--sklearn-color-unfitted-level-1) 1pt solid;\n",
       "  color: var(--sklearn-color-unfitted-level-1);\n",
       "}\n",
       "\n",
       ".sk-estimator-doc-link.fitted,\n",
       "a:link.sk-estimator-doc-link.fitted,\n",
       "a:visited.sk-estimator-doc-link.fitted {\n",
       "  /* fitted */\n",
       "  border: var(--sklearn-color-fitted-level-1) 1pt solid;\n",
       "  color: var(--sklearn-color-fitted-level-1);\n",
       "}\n",
       "\n",
       "/* On hover */\n",
       "div.sk-estimator:hover .sk-estimator-doc-link:hover,\n",
       ".sk-estimator-doc-link:hover,\n",
       "div.sk-label-container:hover .sk-estimator-doc-link:hover,\n",
       ".sk-estimator-doc-link:hover {\n",
       "  /* unfitted */\n",
       "  background-color: var(--sklearn-color-unfitted-level-3);\n",
       "  color: var(--sklearn-color-background);\n",
       "  text-decoration: none;\n",
       "}\n",
       "\n",
       "div.sk-estimator.fitted:hover .sk-estimator-doc-link.fitted:hover,\n",
       ".sk-estimator-doc-link.fitted:hover,\n",
       "div.sk-label-container:hover .sk-estimator-doc-link.fitted:hover,\n",
       ".sk-estimator-doc-link.fitted:hover {\n",
       "  /* fitted */\n",
       "  background-color: var(--sklearn-color-fitted-level-3);\n",
       "  color: var(--sklearn-color-background);\n",
       "  text-decoration: none;\n",
       "}\n",
       "\n",
       "/* Span, style for the box shown on hovering the info icon */\n",
       ".sk-estimator-doc-link span {\n",
       "  display: none;\n",
       "  z-index: 9999;\n",
       "  position: relative;\n",
       "  font-weight: normal;\n",
       "  right: .2ex;\n",
       "  padding: .5ex;\n",
       "  margin: .5ex;\n",
       "  width: min-content;\n",
       "  min-width: 20ex;\n",
       "  max-width: 50ex;\n",
       "  color: var(--sklearn-color-text);\n",
       "  box-shadow: 2pt 2pt 4pt #999;\n",
       "  /* unfitted */\n",
       "  background: var(--sklearn-color-unfitted-level-0);\n",
       "  border: .5pt solid var(--sklearn-color-unfitted-level-3);\n",
       "}\n",
       "\n",
       ".sk-estimator-doc-link.fitted span {\n",
       "  /* fitted */\n",
       "  background: var(--sklearn-color-fitted-level-0);\n",
       "  border: var(--sklearn-color-fitted-level-3);\n",
       "}\n",
       "\n",
       ".sk-estimator-doc-link:hover span {\n",
       "  display: block;\n",
       "}\n",
       "\n",
       "/* \"?\"-specific style due to the `<a>` HTML tag */\n",
       "\n",
       "#sk-container-id-1 a.estimator_doc_link {\n",
       "  float: right;\n",
       "  font-size: 1rem;\n",
       "  line-height: 1em;\n",
       "  font-family: monospace;\n",
       "  background-color: var(--sklearn-color-background);\n",
       "  border-radius: 1rem;\n",
       "  height: 1rem;\n",
       "  width: 1rem;\n",
       "  text-decoration: none;\n",
       "  /* unfitted */\n",
       "  color: var(--sklearn-color-unfitted-level-1);\n",
       "  border: var(--sklearn-color-unfitted-level-1) 1pt solid;\n",
       "}\n",
       "\n",
       "#sk-container-id-1 a.estimator_doc_link.fitted {\n",
       "  /* fitted */\n",
       "  border: var(--sklearn-color-fitted-level-1) 1pt solid;\n",
       "  color: var(--sklearn-color-fitted-level-1);\n",
       "}\n",
       "\n",
       "/* On hover */\n",
       "#sk-container-id-1 a.estimator_doc_link:hover {\n",
       "  /* unfitted */\n",
       "  background-color: var(--sklearn-color-unfitted-level-3);\n",
       "  color: var(--sklearn-color-background);\n",
       "  text-decoration: none;\n",
       "}\n",
       "\n",
       "#sk-container-id-1 a.estimator_doc_link.fitted:hover {\n",
       "  /* fitted */\n",
       "  background-color: var(--sklearn-color-fitted-level-3);\n",
       "}\n",
       "</style><div id=\"sk-container-id-1\" class=\"sk-top-container\"><div class=\"sk-text-repr-fallback\"><pre>GridSearchCV(cv=5, estimator=DecisionTreeClassifier(),\n",
       "             param_grid={&#x27;criterion&#x27;: [&#x27;gini&#x27;, &#x27;entropy&#x27;, &#x27;log_loss&#x27;],\n",
       "                         &#x27;max_depth&#x27;: [1, 2, 3, 4, 5, 15, None],\n",
       "                         &#x27;max_features&#x27;: [&#x27;sqrt&#x27;, &#x27;log2&#x27;, None],\n",
       "                         &#x27;splitter&#x27;: [&#x27;best&#x27;, &#x27;random&#x27;]},\n",
       "             scoring=&#x27;accuracy&#x27;)</pre><b>In a Jupyter environment, please rerun this cell to show the HTML representation or trust the notebook. <br />On GitHub, the HTML representation is unable to render, please try loading this page with nbviewer.org.</b></div><div class=\"sk-container\" hidden><div class=\"sk-item sk-dashed-wrapped\"><div class=\"sk-label-container\"><div class=\"sk-label fitted sk-toggleable\"><input class=\"sk-toggleable__control sk-hidden--visually\" id=\"sk-estimator-id-1\" type=\"checkbox\" ><label for=\"sk-estimator-id-1\" class=\"sk-toggleable__label fitted sk-toggleable__label-arrow\"><div><div>GridSearchCV</div></div><div><a class=\"sk-estimator-doc-link fitted\" rel=\"noreferrer\" target=\"_blank\" href=\"https://scikit-learn.org/1.6/modules/generated/sklearn.model_selection.GridSearchCV.html\">?<span>Documentation for GridSearchCV</span></a><span class=\"sk-estimator-doc-link fitted\">i<span>Fitted</span></span></div></label><div class=\"sk-toggleable__content fitted\"><pre>GridSearchCV(cv=5, estimator=DecisionTreeClassifier(),\n",
       "             param_grid={&#x27;criterion&#x27;: [&#x27;gini&#x27;, &#x27;entropy&#x27;, &#x27;log_loss&#x27;],\n",
       "                         &#x27;max_depth&#x27;: [1, 2, 3, 4, 5, 15, None],\n",
       "                         &#x27;max_features&#x27;: [&#x27;sqrt&#x27;, &#x27;log2&#x27;, None],\n",
       "                         &#x27;splitter&#x27;: [&#x27;best&#x27;, &#x27;random&#x27;]},\n",
       "             scoring=&#x27;accuracy&#x27;)</pre></div> </div></div><div class=\"sk-parallel\"><div class=\"sk-parallel-item\"><div class=\"sk-item\"><div class=\"sk-label-container\"><div class=\"sk-label fitted sk-toggleable\"><input class=\"sk-toggleable__control sk-hidden--visually\" id=\"sk-estimator-id-2\" type=\"checkbox\" ><label for=\"sk-estimator-id-2\" class=\"sk-toggleable__label fitted sk-toggleable__label-arrow\"><div><div>best_estimator_: DecisionTreeClassifier</div></div></label><div class=\"sk-toggleable__content fitted\"><pre>DecisionTreeClassifier(criterion=&#x27;entropy&#x27;)</pre></div> </div></div><div class=\"sk-serial\"><div class=\"sk-item\"><div class=\"sk-estimator fitted sk-toggleable\"><input class=\"sk-toggleable__control sk-hidden--visually\" id=\"sk-estimator-id-3\" type=\"checkbox\" ><label for=\"sk-estimator-id-3\" class=\"sk-toggleable__label fitted sk-toggleable__label-arrow\"><div><div>DecisionTreeClassifier</div></div><div><a class=\"sk-estimator-doc-link fitted\" rel=\"noreferrer\" target=\"_blank\" href=\"https://scikit-learn.org/1.6/modules/generated/sklearn.tree.DecisionTreeClassifier.html\">?<span>Documentation for DecisionTreeClassifier</span></a></div></label><div class=\"sk-toggleable__content fitted\"><pre>DecisionTreeClassifier(criterion=&#x27;entropy&#x27;)</pre></div> </div></div></div></div></div></div></div></div></div>"
      ],
      "text/plain": [
       "GridSearchCV(cv=5, estimator=DecisionTreeClassifier(),\n",
       "             param_grid={'criterion': ['gini', 'entropy', 'log_loss'],\n",
       "                         'max_depth': [1, 2, 3, 4, 5, 15, None],\n",
       "                         'max_features': ['sqrt', 'log2', None],\n",
       "                         'splitter': ['best', 'random']},\n",
       "             scoring='accuracy')"
      ]
     },
     "execution_count": 211,
     "metadata": {},
     "output_type": "execute_result"
    }
   ],
   "source": [
    "import warnings\n",
    "warnings.filterwarnings(\"ignore\")\n",
    "grid.fit(X_train_transformed, y_train)"
   ]
  },
  {
   "cell_type": "code",
   "execution_count": 213,
   "id": "71dadf0e-ba9f-48e8-9a15-54126af401f5",
   "metadata": {},
   "outputs": [
    {
     "data": {
      "text/plain": [
       "{'criterion': 'entropy',\n",
       " 'max_depth': None,\n",
       " 'max_features': None,\n",
       " 'splitter': 'best'}"
      ]
     },
     "execution_count": 213,
     "metadata": {},
     "output_type": "execute_result"
    }
   ],
   "source": [
    "grid.best_params_"
   ]
  },
  {
   "cell_type": "code",
   "execution_count": 215,
   "id": "074e2fa1-78cd-4477-b86f-8a12ac6d03b5",
   "metadata": {},
   "outputs": [
    {
     "data": {
      "text/plain": [
       "np.float64(0.968550461232468)"
      ]
     },
     "execution_count": 215,
     "metadata": {},
     "output_type": "execute_result"
    }
   ],
   "source": [
    "grid.best_score_"
   ]
  },
  {
   "cell_type": "code",
   "execution_count": 217,
   "id": "f61bb75a-f77e-4b90-b16d-7a7182e0b821",
   "metadata": {},
   "outputs": [],
   "source": [
    "y_pred = grid.predict(X_test_transformed)"
   ]
  },
  {
   "cell_type": "code",
   "execution_count": 219,
   "id": "f4367299-e076-459c-8937-0f1545e56a71",
   "metadata": {},
   "outputs": [
    {
     "name": "stdout",
     "output_type": "stream",
     "text": [
      "0.9730250481695568\n",
      "[[119   0   1   1]\n",
      " [  3  18   0   0]\n",
      " [  9   0 347   0]\n",
      " [  0   0   0  21]]\n",
      "              precision    recall  f1-score   support\n",
      "\n",
      "         acc       0.91      0.98      0.94       121\n",
      "        good       1.00      0.86      0.92        21\n",
      "       unacc       1.00      0.97      0.99       356\n",
      "       vgood       0.95      1.00      0.98        21\n",
      "\n",
      "    accuracy                           0.97       519\n",
      "   macro avg       0.97      0.95      0.96       519\n",
      "weighted avg       0.97      0.97      0.97       519\n",
      "\n"
     ]
    }
   ],
   "source": [
    "print(accuracy_score(y_test, y_pred))\n",
    "print(confusion_matrix(y_test, y_pred))\n",
    "print(classification_report(y_test, y_pred))"
   ]
  },
  {
   "cell_type": "code",
   "execution_count": 221,
   "id": "7d25478e-e6d6-41db-bffb-626535cccdd8",
   "metadata": {},
   "outputs": [],
   "source": [
    "tree_model_new = DecisionTreeClassifier(criterion=\"entropy\",max_depth=None,max_features=None, splitter=\"best\")"
   ]
  },
  {
   "cell_type": "code",
   "execution_count": 225,
   "id": "f0376cd4-27d9-49fa-8aef-11b94f5ae695",
   "metadata": {},
   "outputs": [
    {
     "name": "stdout",
     "output_type": "stream",
     "text": [
      "0.9730250481695568\n",
      "[[119   0   1   1]\n",
      " [  3  18   0   0]\n",
      " [  9   0 347   0]\n",
      " [  0   0   0  21]]\n",
      "              precision    recall  f1-score   support\n",
      "\n",
      "         acc       0.91      0.98      0.94       121\n",
      "        good       1.00      0.86      0.92        21\n",
      "       unacc       1.00      0.97      0.99       356\n",
      "       vgood       0.95      1.00      0.98        21\n",
      "\n",
      "    accuracy                           0.97       519\n",
      "   macro avg       0.97      0.95      0.96       519\n",
      "weighted avg       0.97      0.97      0.97       519\n",
      "\n"
     ]
    }
   ],
   "source": [
    "tree_model_new.fit(X_train_transformed, y_train)\n",
    "y_pred = tree_model_new.predict(X_test_transformed)\n",
    "print(accuracy_score(y_test, y_pred))\n",
    "print(confusion_matrix(y_test, y_pred))\n",
    "print(classification_report(y_test, y_pred))"
   ]
  },
  {
   "cell_type": "code",
   "execution_count": 227,
   "id": "3626c31c-b1dc-4633-bc40-3bb9175e4724",
   "metadata": {},
   "outputs": [
    {
     "data": {
      "text/plain": [
       "[Text(0.6140202702702703, 0.9615384615384616, 'number_of_persons <= 3.0\\nentropy = 1.192\\nsamples = 1208\\nvalue = [263, 48, 853, 44]'),\n",
       " Text(0.6005067567567568, 0.8846153846153846, 'entropy = 0.0\\nsamples = 409\\nvalue = [0, 0, 409, 0]'),\n",
       " Text(0.6072635135135136, 0.9230769230769231, 'True  '),\n",
       " Text(0.6275337837837838, 0.8846153846153846, 'safety <= 0.5\\nentropy = 1.473\\nsamples = 799\\nvalue = [263, 48, 444, 44]'),\n",
       " Text(0.620777027027027, 0.9230769230769231, '  False'),\n",
       " Text(0.6140202702702703, 0.8076923076923077, 'entropy = 0.0\\nsamples = 269\\nvalue = [0, 0, 269, 0]'),\n",
       " Text(0.6410472972972973, 0.8076923076923077, 'buying <= 1.5\\nentropy = 1.641\\nsamples = 530\\nvalue = [263, 48, 175, 44]'),\n",
       " Text(0.40371621621621623, 0.7307692307692307, 'maint <= 1.5\\nentropy = 1.745\\nsamples = 270\\nvalue = [142, 48, 36, 44]'),\n",
       " Text(0.19932432432432431, 0.6538461538461539, 'safety <= 1.5\\nentropy = 1.805\\nsamples = 134\\nvalue = [43, 48, 8, 35]'),\n",
       " Text(0.08108108108108109, 0.5769230769230769, 'lug_boot <= 0.5\\nentropy = 1.257\\nsamples = 65\\nvalue = [35, 26, 4, 0]'),\n",
       " Text(0.04054054054054054, 0.5, 'doors <= 2.5\\nentropy = 0.702\\nsamples = 21\\nvalue = [17, 0, 4, 0]'),\n",
       " Text(0.02702702702702703, 0.4230769230769231, 'number_of_persons <= 4.5\\nentropy = 0.918\\nsamples = 6\\nvalue = [2, 0, 4, 0]'),\n",
       " Text(0.013513513513513514, 0.34615384615384615, 'entropy = 0.0\\nsamples = 2\\nvalue = [2, 0, 0, 0]'),\n",
       " Text(0.04054054054054054, 0.34615384615384615, 'entropy = 0.0\\nsamples = 4\\nvalue = [0, 0, 4, 0]'),\n",
       " Text(0.05405405405405406, 0.4230769230769231, 'entropy = 0.0\\nsamples = 15\\nvalue = [15, 0, 0, 0]'),\n",
       " Text(0.12162162162162163, 0.5, 'maint <= 0.5\\nentropy = 0.976\\nsamples = 44\\nvalue = [18, 26, 0, 0]'),\n",
       " Text(0.08108108108108109, 0.4230769230769231, 'lug_boot <= 1.5\\nentropy = 0.702\\nsamples = 21\\nvalue = [4, 17, 0, 0]'),\n",
       " Text(0.06756756756756757, 0.34615384615384615, 'doors <= 2.5\\nentropy = 0.971\\nsamples = 10\\nvalue = [4, 6, 0, 0]'),\n",
       " Text(0.05405405405405406, 0.2692307692307692, 'entropy = 0.0\\nsamples = 3\\nvalue = [3, 0, 0, 0]'),\n",
       " Text(0.08108108108108109, 0.2692307692307692, 'number_of_persons <= 4.5\\nentropy = 0.592\\nsamples = 7\\nvalue = [1, 6, 0, 0]'),\n",
       " Text(0.06756756756756757, 0.19230769230769232, 'doors <= 4.0\\nentropy = 0.918\\nsamples = 3\\nvalue = [1, 2, 0, 0]'),\n",
       " Text(0.05405405405405406, 0.11538461538461539, 'entropy = 0.0\\nsamples = 1\\nvalue = [1, 0, 0, 0]'),\n",
       " Text(0.08108108108108109, 0.11538461538461539, 'entropy = 0.0\\nsamples = 2\\nvalue = [0, 2, 0, 0]'),\n",
       " Text(0.0945945945945946, 0.19230769230769232, 'entropy = 0.0\\nsamples = 4\\nvalue = [0, 4, 0, 0]'),\n",
       " Text(0.0945945945945946, 0.34615384615384615, 'entropy = 0.0\\nsamples = 11\\nvalue = [0, 11, 0, 0]'),\n",
       " Text(0.16216216216216217, 0.4230769230769231, 'buying <= 0.5\\nentropy = 0.966\\nsamples = 23\\nvalue = [14, 9, 0, 0]'),\n",
       " Text(0.14864864864864866, 0.34615384615384615, 'doors <= 3.5\\nentropy = 0.811\\nsamples = 12\\nvalue = [3, 9, 0, 0]'),\n",
       " Text(0.13513513513513514, 0.2692307692307692, 'lug_boot <= 1.5\\nentropy = 1.0\\nsamples = 6\\nvalue = [3, 3, 0, 0]'),\n",
       " Text(0.12162162162162163, 0.19230769230769232, 'number_of_persons <= 4.5\\nentropy = 0.811\\nsamples = 4\\nvalue = [3, 1, 0, 0]'),\n",
       " Text(0.10810810810810811, 0.11538461538461539, 'entropy = 0.0\\nsamples = 2\\nvalue = [2, 0, 0, 0]'),\n",
       " Text(0.13513513513513514, 0.11538461538461539, 'doors <= 2.5\\nentropy = 1.0\\nsamples = 2\\nvalue = [1, 1, 0, 0]'),\n",
       " Text(0.12162162162162163, 0.038461538461538464, 'entropy = 0.0\\nsamples = 1\\nvalue = [1, 0, 0, 0]'),\n",
       " Text(0.14864864864864866, 0.038461538461538464, 'entropy = 0.0\\nsamples = 1\\nvalue = [0, 1, 0, 0]'),\n",
       " Text(0.14864864864864866, 0.19230769230769232, 'entropy = 0.0\\nsamples = 2\\nvalue = [0, 2, 0, 0]'),\n",
       " Text(0.16216216216216217, 0.2692307692307692, 'entropy = 0.0\\nsamples = 6\\nvalue = [0, 6, 0, 0]'),\n",
       " Text(0.17567567567567569, 0.34615384615384615, 'entropy = 0.0\\nsamples = 11\\nvalue = [11, 0, 0, 0]'),\n",
       " Text(0.31756756756756754, 0.5769230769230769, 'lug_boot <= 0.5\\nentropy = 1.621\\nsamples = 69\\nvalue = [8.0, 22.0, 4.0, 35.0]'),\n",
       " Text(0.24324324324324326, 0.5, 'doors <= 2.5\\nentropy = 1.299\\nsamples = 25\\nvalue = [5, 16, 4, 0]'),\n",
       " Text(0.21621621621621623, 0.4230769230769231, 'number_of_persons <= 4.5\\nentropy = 1.379\\nsamples = 7\\nvalue = [1, 2, 4, 0]'),\n",
       " Text(0.20270270270270271, 0.34615384615384615, 'maint <= 0.5\\nentropy = 0.918\\nsamples = 3\\nvalue = [1, 2, 0, 0]'),\n",
       " Text(0.1891891891891892, 0.2692307692307692, 'entropy = 0.0\\nsamples = 1\\nvalue = [0, 1, 0, 0]'),\n",
       " Text(0.21621621621621623, 0.2692307692307692, 'buying <= 0.5\\nentropy = 1.0\\nsamples = 2\\nvalue = [1, 1, 0, 0]'),\n",
       " Text(0.20270270270270271, 0.19230769230769232, 'entropy = 0.0\\nsamples = 1\\nvalue = [0, 1, 0, 0]'),\n",
       " Text(0.22972972972972974, 0.19230769230769232, 'entropy = 0.0\\nsamples = 1\\nvalue = [1, 0, 0, 0]'),\n",
       " Text(0.22972972972972974, 0.34615384615384615, 'entropy = 0.0\\nsamples = 4\\nvalue = [0, 0, 4, 0]'),\n",
       " Text(0.2702702702702703, 0.4230769230769231, 'maint <= 0.5\\nentropy = 0.764\\nsamples = 18\\nvalue = [4, 14, 0, 0]'),\n",
       " Text(0.25675675675675674, 0.34615384615384615, 'entropy = 0.0\\nsamples = 10\\nvalue = [0, 10, 0, 0]'),\n",
       " Text(0.28378378378378377, 0.34615384615384615, 'buying <= 0.5\\nentropy = 1.0\\nsamples = 8\\nvalue = [4, 4, 0, 0]'),\n",
       " Text(0.2702702702702703, 0.2692307692307692, 'entropy = 0.0\\nsamples = 4\\nvalue = [0, 4, 0, 0]'),\n",
       " Text(0.2972972972972973, 0.2692307692307692, 'entropy = 0.0\\nsamples = 4\\nvalue = [4, 0, 0, 0]'),\n",
       " Text(0.3918918918918919, 0.5, 'doors <= 2.5\\nentropy = 0.919\\nsamples = 44\\nvalue = [3, 6, 0, 35]'),\n",
       " Text(0.35135135135135137, 0.4230769230769231, 'lug_boot <= 1.5\\nentropy = 1.46\\nsamples = 13\\nvalue = [2, 5, 0, 6]'),\n",
       " Text(0.33783783783783783, 0.34615384615384615, 'buying <= 0.5\\nentropy = 0.863\\nsamples = 7\\nvalue = [2, 5, 0, 0]'),\n",
       " Text(0.32432432432432434, 0.2692307692307692, 'entropy = 0.0\\nsamples = 4\\nvalue = [0, 4, 0, 0]'),\n",
       " Text(0.35135135135135137, 0.2692307692307692, 'maint <= 0.5\\nentropy = 0.918\\nsamples = 3\\nvalue = [2, 1, 0, 0]'),\n",
       " Text(0.33783783783783783, 0.19230769230769232, 'entropy = 0.0\\nsamples = 1\\nvalue = [0, 1, 0, 0]'),\n",
       " Text(0.36486486486486486, 0.19230769230769232, 'entropy = 0.0\\nsamples = 2\\nvalue = [2, 0, 0, 0]'),\n",
       " Text(0.36486486486486486, 0.34615384615384615, 'entropy = 0.0\\nsamples = 6\\nvalue = [0, 0, 0, 6]'),\n",
       " Text(0.43243243243243246, 0.4230769230769231, 'doors <= 3.5\\nentropy = 0.41\\nsamples = 31\\nvalue = [1, 1, 0, 29]'),\n",
       " Text(0.4189189189189189, 0.34615384615384615, 'number_of_persons <= 4.5\\nentropy = 0.817\\nsamples = 12\\nvalue = [1, 1, 0, 10]'),\n",
       " Text(0.40540540540540543, 0.2692307692307692, 'lug_boot <= 1.5\\nentropy = 1.5\\nsamples = 4\\nvalue = [1, 1, 0, 2]'),\n",
       " Text(0.3918918918918919, 0.19230769230769232, 'buying <= 0.5\\nentropy = 1.0\\nsamples = 2\\nvalue = [1, 1, 0, 0]'),\n",
       " Text(0.3783783783783784, 0.11538461538461539, 'entropy = 0.0\\nsamples = 1\\nvalue = [0, 1, 0, 0]'),\n",
       " Text(0.40540540540540543, 0.11538461538461539, 'entropy = 0.0\\nsamples = 1\\nvalue = [1, 0, 0, 0]'),\n",
       " Text(0.4189189189189189, 0.19230769230769232, 'entropy = 0.0\\nsamples = 2\\nvalue = [0, 0, 0, 2]'),\n",
       " Text(0.43243243243243246, 0.2692307692307692, 'entropy = 0.0\\nsamples = 8\\nvalue = [0, 0, 0, 8]'),\n",
       " Text(0.44594594594594594, 0.34615384615384615, 'entropy = 0.0\\nsamples = 19\\nvalue = [0, 0, 0, 19]'),\n",
       " Text(0.6081081081081081, 0.6538461538461539, 'safety <= 1.5\\nentropy = 1.062\\nsamples = 136\\nvalue = [99, 0, 28, 9]'),\n",
       " Text(0.527027027027027, 0.5769230769230769, 'lug_boot <= 0.5\\nentropy = 0.935\\nsamples = 74\\nvalue = [48, 0, 26, 0]'),\n",
       " Text(0.5, 0.5, 'buying <= 0.5\\nentropy = 0.684\\nsamples = 22\\nvalue = [4, 0, 18, 0]'),\n",
       " Text(0.4864864864864865, 0.4230769230769231, 'maint <= 2.5\\nentropy = 1.0\\nsamples = 8\\nvalue = [4, 0, 4, 0]'),\n",
       " Text(0.47297297297297297, 0.34615384615384615, 'entropy = 0.0\\nsamples = 4\\nvalue = [4, 0, 0, 0]'),\n",
       " Text(0.5, 0.34615384615384615, 'entropy = 0.0\\nsamples = 4\\nvalue = [0, 0, 4, 0]'),\n",
       " Text(0.5135135135135135, 0.4230769230769231, 'entropy = 0.0\\nsamples = 14\\nvalue = [0, 0, 14, 0]'),\n",
       " Text(0.5540540540540541, 0.5, 'doors <= 3.5\\nentropy = 0.619\\nsamples = 52\\nvalue = [44, 0, 8, 0]'),\n",
       " Text(0.5405405405405406, 0.4230769230769231, 'lug_boot <= 1.5\\nentropy = 0.918\\nsamples = 24\\nvalue = [16, 0, 8, 0]'),\n",
       " Text(0.527027027027027, 0.34615384615384615, 'buying <= 0.5\\nentropy = 0.961\\nsamples = 13\\nvalue = [5, 0, 8, 0]'),\n",
       " Text(0.5, 0.2692307692307692, 'maint <= 2.5\\nentropy = 0.918\\nsamples = 6\\nvalue = [4, 0, 2, 0]'),\n",
       " Text(0.4864864864864865, 0.19230769230769232, 'entropy = 0.0\\nsamples = 3\\nvalue = [3, 0, 0, 0]'),\n",
       " Text(0.5135135135135135, 0.19230769230769232, 'number_of_persons <= 4.5\\nentropy = 0.918\\nsamples = 3\\nvalue = [1, 0, 2, 0]'),\n",
       " Text(0.5, 0.11538461538461539, 'entropy = 0.0\\nsamples = 2\\nvalue = [0, 0, 2, 0]'),\n",
       " Text(0.527027027027027, 0.11538461538461539, 'entropy = 0.0\\nsamples = 1\\nvalue = [1, 0, 0, 0]'),\n",
       " Text(0.5540540540540541, 0.2692307692307692, 'number_of_persons <= 4.5\\nentropy = 0.592\\nsamples = 7\\nvalue = [1, 0, 6, 0]'),\n",
       " Text(0.5405405405405406, 0.19230769230769232, 'entropy = 0.0\\nsamples = 4\\nvalue = [0, 0, 4, 0]'),\n",
       " Text(0.5675675675675675, 0.19230769230769232, 'doors <= 2.5\\nentropy = 0.918\\nsamples = 3\\nvalue = [1, 0, 2, 0]'),\n",
       " Text(0.5540540540540541, 0.11538461538461539, 'entropy = 0.0\\nsamples = 2\\nvalue = [0, 0, 2, 0]'),\n",
       " Text(0.581081081081081, 0.11538461538461539, 'entropy = 0.0\\nsamples = 1\\nvalue = [1, 0, 0, 0]'),\n",
       " Text(0.5540540540540541, 0.34615384615384615, 'entropy = 0.0\\nsamples = 11\\nvalue = [11, 0, 0, 0]'),\n",
       " Text(0.5675675675675675, 0.4230769230769231, 'entropy = 0.0\\nsamples = 28\\nvalue = [28, 0, 0, 0]'),\n",
       " Text(0.6891891891891891, 0.5769230769230769, 'maint <= 2.5\\nentropy = 0.796\\nsamples = 62\\nvalue = [51, 0, 2, 9]'),\n",
       " Text(0.6486486486486487, 0.5, 'buying <= 0.5\\nentropy = 0.869\\nsamples = 31\\nvalue = [22, 0, 0, 9]'),\n",
       " Text(0.6351351351351351, 0.4230769230769231, 'lug_boot <= 0.5\\nentropy = 0.989\\nsamples = 16\\nvalue = [7, 0, 0, 9]'),\n",
       " Text(0.6216216216216216, 0.34615384615384615, 'entropy = 0.0\\nsamples = 5\\nvalue = [5, 0, 0, 0]'),\n",
       " Text(0.6486486486486487, 0.34615384615384615, 'doors <= 3.5\\nentropy = 0.684\\nsamples = 11\\nvalue = [2, 0, 0, 9]'),\n",
       " Text(0.6351351351351351, 0.2692307692307692, 'number_of_persons <= 4.5\\nentropy = 0.971\\nsamples = 5\\nvalue = [2, 0, 0, 3]'),\n",
       " Text(0.6216216216216216, 0.19230769230769232, 'lug_boot <= 1.5\\nentropy = 0.918\\nsamples = 3\\nvalue = [2, 0, 0, 1]'),\n",
       " Text(0.6081081081081081, 0.11538461538461539, 'entropy = 0.0\\nsamples = 2\\nvalue = [2, 0, 0, 0]'),\n",
       " Text(0.6351351351351351, 0.11538461538461539, 'entropy = 0.0\\nsamples = 1\\nvalue = [0, 0, 0, 1]'),\n",
       " Text(0.6486486486486487, 0.19230769230769232, 'entropy = 0.0\\nsamples = 2\\nvalue = [0, 0, 0, 2]'),\n",
       " Text(0.6621621621621622, 0.2692307692307692, 'entropy = 0.0\\nsamples = 6\\nvalue = [0, 0, 0, 6]'),\n",
       " Text(0.6621621621621622, 0.4230769230769231, 'entropy = 0.0\\nsamples = 15\\nvalue = [15, 0, 0, 0]'),\n",
       " Text(0.7297297297297297, 0.5, 'doors <= 2.5\\nentropy = 0.345\\nsamples = 31\\nvalue = [29, 0, 2, 0]'),\n",
       " Text(0.7162162162162162, 0.4230769230769231, 'lug_boot <= 0.5\\nentropy = 0.863\\nsamples = 7\\nvalue = [5, 0, 2, 0]'),\n",
       " Text(0.7027027027027027, 0.34615384615384615, 'number_of_persons <= 4.5\\nentropy = 0.918\\nsamples = 3\\nvalue = [1, 0, 2, 0]'),\n",
       " Text(0.6891891891891891, 0.2692307692307692, 'entropy = 0.0\\nsamples = 1\\nvalue = [1, 0, 0, 0]'),\n",
       " Text(0.7162162162162162, 0.2692307692307692, 'entropy = 0.0\\nsamples = 2\\nvalue = [0, 0, 2, 0]'),\n",
       " Text(0.7297297297297297, 0.34615384615384615, 'entropy = 0.0\\nsamples = 4\\nvalue = [4, 0, 0, 0]'),\n",
       " Text(0.7432432432432432, 0.4230769230769231, 'entropy = 0.0\\nsamples = 24\\nvalue = [24, 0, 0, 0]'),\n",
       " Text(0.8783783783783784, 0.7307692307692307, 'maint <= 2.5\\nentropy = 0.997\\nsamples = 260\\nvalue = [121, 0, 139, 0]'),\n",
       " Text(0.8648648648648649, 0.6538461538461539, 'lug_boot <= 0.5\\nentropy = 0.943\\nsamples = 189\\nvalue = [121, 0, 68, 0]'),\n",
       " Text(0.7837837837837838, 0.5769230769230769, 'safety <= 1.5\\nentropy = 0.913\\nsamples = 64\\nvalue = [21, 0, 43, 0]'),\n",
       " Text(0.7702702702702703, 0.5, 'entropy = 0.0\\nsamples = 31\\nvalue = [0, 0, 31, 0]'),\n",
       " Text(0.7972972972972973, 0.5, 'doors <= 2.5\\nentropy = 0.946\\nsamples = 33\\nvalue = [21, 0, 12, 0]'),\n",
       " Text(0.7702702702702703, 0.4230769230769231, 'number_of_persons <= 4.5\\nentropy = 0.764\\nsamples = 9\\nvalue = [2, 0, 7, 0]'),\n",
       " Text(0.7567567567567568, 0.34615384615384615, 'maint <= 1.5\\nentropy = 0.918\\nsamples = 3\\nvalue = [2, 0, 1, 0]'),\n",
       " Text(0.7432432432432432, 0.2692307692307692, 'entropy = 0.0\\nsamples = 2\\nvalue = [2, 0, 0, 0]'),\n",
       " Text(0.7702702702702703, 0.2692307692307692, 'entropy = 0.0\\nsamples = 1\\nvalue = [0, 0, 1, 0]'),\n",
       " Text(0.7837837837837838, 0.34615384615384615, 'entropy = 0.0\\nsamples = 6\\nvalue = [0, 0, 6, 0]'),\n",
       " Text(0.8243243243243243, 0.4230769230769231, 'buying <= 2.5\\nentropy = 0.738\\nsamples = 24\\nvalue = [19, 0, 5, 0]'),\n",
       " Text(0.8108108108108109, 0.34615384615384615, 'entropy = 0.0\\nsamples = 14\\nvalue = [14, 0, 0, 0]'),\n",
       " Text(0.8378378378378378, 0.34615384615384615, 'maint <= 1.5\\nentropy = 1.0\\nsamples = 10\\nvalue = [5, 0, 5, 0]'),\n",
       " Text(0.8243243243243243, 0.2692307692307692, 'entropy = 0.0\\nsamples = 5\\nvalue = [5, 0, 0, 0]'),\n",
       " Text(0.8513513513513513, 0.2692307692307692, 'entropy = 0.0\\nsamples = 5\\nvalue = [0, 0, 5, 0]'),\n",
       " Text(0.9459459459459459, 0.5769230769230769, 'maint <= 1.5\\nentropy = 0.722\\nsamples = 125\\nvalue = [100, 0, 25, 0]'),\n",
       " Text(0.918918918918919, 0.5, 'lug_boot <= 1.5\\nentropy = 0.323\\nsamples = 85\\nvalue = [80, 0, 5, 0]'),\n",
       " Text(0.9054054054054054, 0.4230769230769231, 'safety <= 1.5\\nentropy = 0.552\\nsamples = 39\\nvalue = [34, 0, 5, 0]'),\n",
       " Text(0.8918918918918919, 0.34615384615384615, 'doors <= 3.5\\nentropy = 0.874\\nsamples = 17\\nvalue = [12, 0, 5, 0]'),\n",
       " Text(0.8783783783783784, 0.2692307692307692, 'number_of_persons <= 4.5\\nentropy = 0.954\\nsamples = 8\\nvalue = [3, 0, 5, 0]'),\n",
       " Text(0.8648648648648649, 0.19230769230769232, 'entropy = 0.0\\nsamples = 5\\nvalue = [0, 0, 5, 0]'),\n",
       " Text(0.8918918918918919, 0.19230769230769232, 'entropy = 0.0\\nsamples = 3\\nvalue = [3, 0, 0, 0]'),\n",
       " Text(0.9054054054054054, 0.2692307692307692, 'entropy = 0.0\\nsamples = 9\\nvalue = [9, 0, 0, 0]'),\n",
       " Text(0.918918918918919, 0.34615384615384615, 'entropy = 0.0\\nsamples = 22\\nvalue = [22, 0, 0, 0]'),\n",
       " Text(0.9324324324324325, 0.4230769230769231, 'entropy = 0.0\\nsamples = 46\\nvalue = [46, 0, 0, 0]'),\n",
       " Text(0.972972972972973, 0.5, 'buying <= 2.5\\nentropy = 1.0\\nsamples = 40\\nvalue = [20, 0, 20, 0]'),\n",
       " Text(0.9594594594594594, 0.4230769230769231, 'doors <= 2.5\\nentropy = 0.276\\nsamples = 21\\nvalue = [20, 0, 1, 0]'),\n",
       " Text(0.9459459459459459, 0.34615384615384615, 'safety <= 1.5\\nentropy = 0.592\\nsamples = 7\\nvalue = [6, 0, 1, 0]'),\n",
       " Text(0.9324324324324325, 0.2692307692307692, 'lug_boot <= 1.5\\nentropy = 0.918\\nsamples = 3\\nvalue = [2, 0, 1, 0]'),\n",
       " Text(0.918918918918919, 0.19230769230769232, 'entropy = 0.0\\nsamples = 1\\nvalue = [0, 0, 1, 0]'),\n",
       " Text(0.9459459459459459, 0.19230769230769232, 'entropy = 0.0\\nsamples = 2\\nvalue = [2, 0, 0, 0]'),\n",
       " Text(0.9594594594594594, 0.2692307692307692, 'entropy = 0.0\\nsamples = 4\\nvalue = [4, 0, 0, 0]'),\n",
       " Text(0.972972972972973, 0.34615384615384615, 'entropy = 0.0\\nsamples = 14\\nvalue = [14, 0, 0, 0]'),\n",
       " Text(0.9864864864864865, 0.4230769230769231, 'entropy = 0.0\\nsamples = 19\\nvalue = [0, 0, 19, 0]'),\n",
       " Text(0.8918918918918919, 0.6538461538461539, 'entropy = 0.0\\nsamples = 71\\nvalue = [0, 0, 71, 0]')]"
      ]
     },
     "execution_count": 227,
     "metadata": {},
     "output_type": "execute_result"
    },
    {
     "data": {
      "image/png": "[encoded data removed]",
      "text/plain": [
       "<Figure size 640x480 with 1 Axes>"
      ]
     },
     "metadata": {},
     "output_type": "display_data"
    }
   ],
   "source": [
    "tree.plot_tree(tree_model_new.fit(X_train_transformed, y_train),feature_names=column_names)"
   ]
  },
  {
   "cell_type": "code",
   "execution_count": null,
   "id": "9a745ab9-b534-4f08-970d-17becf38e624",
   "metadata": {},
   "outputs": [],
   "source": []
  }
 ],
 "metadata": {
  "kernelspec": {
   "display_name": "Python 3 (ipykernel)",
   "language": "python",
   "name": "python3"
  },
  "language_info": {
   "codemirror_mode": {
    "name": "ipython",
    "version": 3
   },
   "file_extension": ".py",
   "mimetype": "text/x-python",
   "name": "python",
   "nbconvert_exporter": "python",
   "pygments_lexer": "ipython3",
   "version": "3.12.4"
  }
 },
 "nbformat": 4,
 "nbformat_minor": 5
}
